{
 "cells": [
  {
   "cell_type": "markdown",
   "id": "05032c2e",
   "metadata": {
    "papermill": {
     "duration": 0.00443,
     "end_time": "2024-12-06T23:00:41.382701",
     "exception": false,
     "start_time": "2024-12-06T23:00:41.378271",
     "status": "completed"
    },
    "tags": []
   },
   "source": [
    "# NN (MLP) - CV 0.670 - LB 0.670\n",
    "In this notebook, we present a Neural Network NN (MLP) baseline. This NN is very fast to train on GPU! We achieve CV 0.670. There is a discussion about this notebook [here][7]\n",
    "\n",
    "We tranform the two train targets (`efs` and `efs_time`) into a single target (`y`) and then train regression NN with MSE loss. We load Kaggle's official metric code from [here][1] and evaluate the CV performance using competition metric Stratified Concordance Index.\n",
    "\n",
    "In this comp, we need to predict `risk score`. There are many different ways to transform the two train targets into a value that mimics `risk score` and train an NN (or any other regression model like SVR) with regression. I present one transformation in this notebook and I presented a different one in my XGBoost starter notebook [here][3]. \n",
    "\n",
    "Consider experimenting by creating your own target from `efs` and `efs_time`. Or considering using survival loss directly which uses both `efs` and `efs_time` as explained in discussion post [here][4]. Kaggle user MT describes another transformation [here][5] called `KaplanMeierFitter` and gives an example [here][6]\n",
    "\n",
    "Good luck, have fun!\n",
    "\n",
    "[1]: https://www.kaggle.com/code/metric/eefs-concordance-index\n",
    "[2]: https://www.kaggle.com/competitions/equity-post-HCT-survival-predictions/discussion/550003\n",
    "[3]: https://www.kaggle.com/code/cdeotte/xgboost-catboost-baseline-cv-668-lb-668\n",
    "[4]: https://www.kaggle.com/competitions/equity-post-HCT-survival-predictions/discussion/550141\n",
    "[5]: https://www.kaggle.com/competitions/equity-post-HCT-survival-predictions/discussion/550141#3064661\n",
    "[6]: https://www.kaggle.com/competitions/equity-post-HCT-survival-predictions/discussion/550337\n",
    "[7]: https://www.kaggle.com/competitions/equity-post-HCT-survival-predictions/discussion/550343"
   ]
  },
  {
   "cell_type": "markdown",
   "id": "a8527d1e",
   "metadata": {
    "papermill": {
     "duration": 0.003485,
     "end_time": "2024-12-06T23:00:41.390018",
     "exception": false,
     "start_time": "2024-12-06T23:00:41.386533",
     "status": "completed"
    },
    "tags": []
   },
   "source": [
    "# Pip Install Libraries for Metric\n",
    "Since internet must be turned off for submission, we pip install from my other notebook [here][1] where I downloaded the WHL files.\n",
    "\n",
    "[1]: https://www.kaggle.com/code/cdeotte/pip-install-lifelines"
   ]
  },
  {
   "cell_type": "code",
   "execution_count": 1,
   "id": "a33940fc",
   "metadata": {
    "_kg_hide-output": true,
    "collapsed": true,
    "execution": {
     "iopub.execute_input": "2024-12-06T23:00:41.399495Z",
     "iopub.status.busy": "2024-12-06T23:00:41.399236Z",
     "iopub.status.idle": "2024-12-06T23:04:05.102142Z",
     "shell.execute_reply": "2024-12-06T23:04:05.101229Z"
    },
    "jupyter": {
     "outputs_hidden": true
    },
    "papermill": {
     "duration": 203.710091,
     "end_time": "2024-12-06T23:04:05.104824",
     "exception": false,
     "start_time": "2024-12-06T23:00:41.394733",
     "status": "completed"
    },
    "tags": []
   },
   "outputs": [],
   "source": [
    "# !pip install /kaggle/input/pip-install-lifelines/autograd-1.7.0-py3-none-any.whl\n",
    "# !pip install /kaggle/input/pip-install-lifelines/autograd-gamma-0.5.0.tar.gz\n",
    "# !pip install /kaggle/input/pip-install-lifelines/interface_meta-1.3.0-py3-none-any.whl\n",
    "# !pip install /kaggle/input/pip-install-lifelines/formulaic-1.0.2-py3-none-any.whl\n",
    "# !pip install /kaggle/input/pip-install-lifelines/lifelines-0.30.0-py3-none-any.whl\n"
   ]
  },
  {
   "cell_type": "markdown",
   "id": "d1457b3e",
   "metadata": {
    "papermill": {
     "duration": 0.00482,
     "end_time": "2024-12-06T23:04:05.115006",
     "exception": false,
     "start_time": "2024-12-06T23:04:05.110186",
     "status": "completed"
    },
    "tags": []
   },
   "source": [
    "# Load Train and Test"
   ]
  },
  {
   "cell_type": "code",
   "execution_count": 5,
   "id": "a6ef1117",
   "metadata": {
    "_cell_guid": "b1076dfc-b9ad-4769-8c92-a6c4dae69d19",
    "_uuid": "8f2839f25d086af736a60e9eeb907d3b93b6e0e5",
    "execution": {
     "iopub.execute_input": "2024-12-06T23:04:05.126358Z",
     "iopub.status.busy": "2024-12-06T23:04:05.126065Z",
     "iopub.status.idle": "2024-12-06T23:04:06.307736Z",
     "shell.execute_reply": "2024-12-06T23:04:06.306668Z"
    },
    "papermill": {
     "duration": 1.190179,
     "end_time": "2024-12-06T23:04:06.310028",
     "exception": false,
     "start_time": "2024-12-06T23:04:05.119849",
     "status": "completed"
    },
    "tags": []
   },
   "outputs": [
    {
     "name": "stdout",
     "output_type": "stream",
     "text": [
      "Test shape: (3, 58)\n",
      "Train shape: (28800, 60)\n"
     ]
    },
    {
     "data": {
      "text/html": [
       "<div>\n",
       "<style scoped>\n",
       "    .dataframe tbody tr th:only-of-type {\n",
       "        vertical-align: middle;\n",
       "    }\n",
       "\n",
       "    .dataframe tbody tr th {\n",
       "        vertical-align: top;\n",
       "    }\n",
       "\n",
       "    .dataframe thead th {\n",
       "        text-align: right;\n",
       "    }\n",
       "</style>\n",
       "<table border=\"1\" class=\"dataframe\">\n",
       "  <thead>\n",
       "    <tr style=\"text-align: right;\">\n",
       "      <th></th>\n",
       "      <th>ID</th>\n",
       "      <th>dri_score</th>\n",
       "      <th>psych_disturb</th>\n",
       "      <th>cyto_score</th>\n",
       "      <th>diabetes</th>\n",
       "      <th>hla_match_c_high</th>\n",
       "      <th>hla_high_res_8</th>\n",
       "      <th>tbi_status</th>\n",
       "      <th>arrhythmia</th>\n",
       "      <th>hla_low_res_6</th>\n",
       "      <th>graft_type</th>\n",
       "      <th>vent_hist</th>\n",
       "      <th>renal_issue</th>\n",
       "      <th>pulm_severe</th>\n",
       "      <th>prim_disease_hct</th>\n",
       "      <th>hla_high_res_6</th>\n",
       "      <th>cmv_status</th>\n",
       "      <th>hla_high_res_10</th>\n",
       "      <th>hla_match_dqb1_high</th>\n",
       "      <th>tce_imm_match</th>\n",
       "      <th>hla_nmdp_6</th>\n",
       "      <th>hla_match_c_low</th>\n",
       "      <th>rituximab</th>\n",
       "      <th>hla_match_drb1_low</th>\n",
       "      <th>hla_match_dqb1_low</th>\n",
       "      <th>prod_type</th>\n",
       "      <th>cyto_score_detail</th>\n",
       "      <th>conditioning_intensity</th>\n",
       "      <th>ethnicity</th>\n",
       "      <th>year_hct</th>\n",
       "      <th>obesity</th>\n",
       "      <th>mrd_hct</th>\n",
       "      <th>in_vivo_tcd</th>\n",
       "      <th>tce_match</th>\n",
       "      <th>hla_match_a_high</th>\n",
       "      <th>hepatic_severe</th>\n",
       "      <th>donor_age</th>\n",
       "      <th>prior_tumor</th>\n",
       "      <th>hla_match_b_low</th>\n",
       "      <th>peptic_ulcer</th>\n",
       "      <th>age_at_hct</th>\n",
       "      <th>hla_match_a_low</th>\n",
       "      <th>gvhd_proph</th>\n",
       "      <th>rheum_issue</th>\n",
       "      <th>sex_match</th>\n",
       "      <th>hla_match_b_high</th>\n",
       "      <th>race_group</th>\n",
       "      <th>comorbidity_score</th>\n",
       "      <th>karnofsky_score</th>\n",
       "      <th>hepatic_mild</th>\n",
       "      <th>tce_div_match</th>\n",
       "      <th>donor_related</th>\n",
       "      <th>melphalan_dose</th>\n",
       "      <th>hla_low_res_8</th>\n",
       "      <th>cardiac</th>\n",
       "      <th>hla_match_drb1_high</th>\n",
       "      <th>pulm_moderate</th>\n",
       "      <th>hla_low_res_10</th>\n",
       "      <th>efs</th>\n",
       "      <th>efs_time</th>\n",
       "    </tr>\n",
       "  </thead>\n",
       "  <tbody>\n",
       "    <tr>\n",
       "      <th>0</th>\n",
       "      <td>0</td>\n",
       "      <td>N/A - non-malignant indication</td>\n",
       "      <td>No</td>\n",
       "      <td>NaN</td>\n",
       "      <td>No</td>\n",
       "      <td>NaN</td>\n",
       "      <td>NaN</td>\n",
       "      <td>No TBI</td>\n",
       "      <td>No</td>\n",
       "      <td>6.0</td>\n",
       "      <td>Bone marrow</td>\n",
       "      <td>No</td>\n",
       "      <td>No</td>\n",
       "      <td>No</td>\n",
       "      <td>IEA</td>\n",
       "      <td>6.0</td>\n",
       "      <td>+/+</td>\n",
       "      <td>NaN</td>\n",
       "      <td>2.0</td>\n",
       "      <td>NaN</td>\n",
       "      <td>6.0</td>\n",
       "      <td>2.0</td>\n",
       "      <td>No</td>\n",
       "      <td>2.0</td>\n",
       "      <td>2.0</td>\n",
       "      <td>BM</td>\n",
       "      <td>NaN</td>\n",
       "      <td>NaN</td>\n",
       "      <td>Not Hispanic or Latino</td>\n",
       "      <td>2016</td>\n",
       "      <td>No</td>\n",
       "      <td>NaN</td>\n",
       "      <td>Yes</td>\n",
       "      <td>NaN</td>\n",
       "      <td>2.0</td>\n",
       "      <td>No</td>\n",
       "      <td>NaN</td>\n",
       "      <td>No</td>\n",
       "      <td>2.0</td>\n",
       "      <td>No</td>\n",
       "      <td>9.942</td>\n",
       "      <td>2.0</td>\n",
       "      <td>FKalone</td>\n",
       "      <td>No</td>\n",
       "      <td>M-F</td>\n",
       "      <td>2.0</td>\n",
       "      <td>More than one race</td>\n",
       "      <td>0.0</td>\n",
       "      <td>90.0</td>\n",
       "      <td>No</td>\n",
       "      <td>NaN</td>\n",
       "      <td>Unrelated</td>\n",
       "      <td>N/A, Mel not given</td>\n",
       "      <td>8.0</td>\n",
       "      <td>No</td>\n",
       "      <td>2.0</td>\n",
       "      <td>No</td>\n",
       "      <td>10.0</td>\n",
       "      <td>0.0</td>\n",
       "      <td>42.356</td>\n",
       "    </tr>\n",
       "    <tr>\n",
       "      <th>1</th>\n",
       "      <td>1</td>\n",
       "      <td>Intermediate</td>\n",
       "      <td>No</td>\n",
       "      <td>Intermediate</td>\n",
       "      <td>No</td>\n",
       "      <td>2.0</td>\n",
       "      <td>8.0</td>\n",
       "      <td>TBI +- Other, &gt;cGy</td>\n",
       "      <td>No</td>\n",
       "      <td>6.0</td>\n",
       "      <td>Peripheral blood</td>\n",
       "      <td>No</td>\n",
       "      <td>No</td>\n",
       "      <td>No</td>\n",
       "      <td>AML</td>\n",
       "      <td>6.0</td>\n",
       "      <td>+/+</td>\n",
       "      <td>10.0</td>\n",
       "      <td>2.0</td>\n",
       "      <td>P/P</td>\n",
       "      <td>6.0</td>\n",
       "      <td>2.0</td>\n",
       "      <td>No</td>\n",
       "      <td>2.0</td>\n",
       "      <td>2.0</td>\n",
       "      <td>PB</td>\n",
       "      <td>Intermediate</td>\n",
       "      <td>MAC</td>\n",
       "      <td>Not Hispanic or Latino</td>\n",
       "      <td>2008</td>\n",
       "      <td>No</td>\n",
       "      <td>Positive</td>\n",
       "      <td>No</td>\n",
       "      <td>Permissive</td>\n",
       "      <td>2.0</td>\n",
       "      <td>No</td>\n",
       "      <td>72.29</td>\n",
       "      <td>No</td>\n",
       "      <td>2.0</td>\n",
       "      <td>No</td>\n",
       "      <td>43.705</td>\n",
       "      <td>2.0</td>\n",
       "      <td>Other GVHD Prophylaxis</td>\n",
       "      <td>No</td>\n",
       "      <td>F-F</td>\n",
       "      <td>2.0</td>\n",
       "      <td>Asian</td>\n",
       "      <td>3.0</td>\n",
       "      <td>90.0</td>\n",
       "      <td>No</td>\n",
       "      <td>Permissive mismatched</td>\n",
       "      <td>Related</td>\n",
       "      <td>N/A, Mel not given</td>\n",
       "      <td>8.0</td>\n",
       "      <td>No</td>\n",
       "      <td>2.0</td>\n",
       "      <td>Yes</td>\n",
       "      <td>10.0</td>\n",
       "      <td>1.0</td>\n",
       "      <td>4.672</td>\n",
       "    </tr>\n",
       "    <tr>\n",
       "      <th>2</th>\n",
       "      <td>2</td>\n",
       "      <td>N/A - non-malignant indication</td>\n",
       "      <td>No</td>\n",
       "      <td>NaN</td>\n",
       "      <td>No</td>\n",
       "      <td>2.0</td>\n",
       "      <td>8.0</td>\n",
       "      <td>No TBI</td>\n",
       "      <td>No</td>\n",
       "      <td>6.0</td>\n",
       "      <td>Bone marrow</td>\n",
       "      <td>No</td>\n",
       "      <td>No</td>\n",
       "      <td>No</td>\n",
       "      <td>HIS</td>\n",
       "      <td>6.0</td>\n",
       "      <td>+/+</td>\n",
       "      <td>10.0</td>\n",
       "      <td>2.0</td>\n",
       "      <td>P/P</td>\n",
       "      <td>6.0</td>\n",
       "      <td>2.0</td>\n",
       "      <td>No</td>\n",
       "      <td>2.0</td>\n",
       "      <td>2.0</td>\n",
       "      <td>BM</td>\n",
       "      <td>NaN</td>\n",
       "      <td>NaN</td>\n",
       "      <td>Not Hispanic or Latino</td>\n",
       "      <td>2019</td>\n",
       "      <td>No</td>\n",
       "      <td>NaN</td>\n",
       "      <td>Yes</td>\n",
       "      <td>NaN</td>\n",
       "      <td>2.0</td>\n",
       "      <td>No</td>\n",
       "      <td>NaN</td>\n",
       "      <td>No</td>\n",
       "      <td>2.0</td>\n",
       "      <td>No</td>\n",
       "      <td>33.997</td>\n",
       "      <td>2.0</td>\n",
       "      <td>Cyclophosphamide alone</td>\n",
       "      <td>No</td>\n",
       "      <td>F-M</td>\n",
       "      <td>2.0</td>\n",
       "      <td>More than one race</td>\n",
       "      <td>0.0</td>\n",
       "      <td>90.0</td>\n",
       "      <td>No</td>\n",
       "      <td>Permissive mismatched</td>\n",
       "      <td>Related</td>\n",
       "      <td>N/A, Mel not given</td>\n",
       "      <td>8.0</td>\n",
       "      <td>No</td>\n",
       "      <td>2.0</td>\n",
       "      <td>No</td>\n",
       "      <td>10.0</td>\n",
       "      <td>0.0</td>\n",
       "      <td>19.793</td>\n",
       "    </tr>\n",
       "    <tr>\n",
       "      <th>3</th>\n",
       "      <td>3</td>\n",
       "      <td>High</td>\n",
       "      <td>No</td>\n",
       "      <td>Intermediate</td>\n",
       "      <td>No</td>\n",
       "      <td>2.0</td>\n",
       "      <td>8.0</td>\n",
       "      <td>No TBI</td>\n",
       "      <td>No</td>\n",
       "      <td>6.0</td>\n",
       "      <td>Bone marrow</td>\n",
       "      <td>No</td>\n",
       "      <td>No</td>\n",
       "      <td>No</td>\n",
       "      <td>ALL</td>\n",
       "      <td>6.0</td>\n",
       "      <td>+/+</td>\n",
       "      <td>10.0</td>\n",
       "      <td>2.0</td>\n",
       "      <td>P/P</td>\n",
       "      <td>6.0</td>\n",
       "      <td>2.0</td>\n",
       "      <td>No</td>\n",
       "      <td>2.0</td>\n",
       "      <td>2.0</td>\n",
       "      <td>BM</td>\n",
       "      <td>Intermediate</td>\n",
       "      <td>MAC</td>\n",
       "      <td>Not Hispanic or Latino</td>\n",
       "      <td>2009</td>\n",
       "      <td>No</td>\n",
       "      <td>Positive</td>\n",
       "      <td>No</td>\n",
       "      <td>Permissive</td>\n",
       "      <td>2.0</td>\n",
       "      <td>No</td>\n",
       "      <td>29.23</td>\n",
       "      <td>No</td>\n",
       "      <td>2.0</td>\n",
       "      <td>No</td>\n",
       "      <td>43.245</td>\n",
       "      <td>2.0</td>\n",
       "      <td>FK+ MMF +- others</td>\n",
       "      <td>No</td>\n",
       "      <td>M-M</td>\n",
       "      <td>2.0</td>\n",
       "      <td>White</td>\n",
       "      <td>0.0</td>\n",
       "      <td>90.0</td>\n",
       "      <td>Yes</td>\n",
       "      <td>Permissive mismatched</td>\n",
       "      <td>Unrelated</td>\n",
       "      <td>N/A, Mel not given</td>\n",
       "      <td>8.0</td>\n",
       "      <td>No</td>\n",
       "      <td>2.0</td>\n",
       "      <td>No</td>\n",
       "      <td>10.0</td>\n",
       "      <td>0.0</td>\n",
       "      <td>102.349</td>\n",
       "    </tr>\n",
       "    <tr>\n",
       "      <th>4</th>\n",
       "      <td>4</td>\n",
       "      <td>High</td>\n",
       "      <td>No</td>\n",
       "      <td>NaN</td>\n",
       "      <td>No</td>\n",
       "      <td>2.0</td>\n",
       "      <td>8.0</td>\n",
       "      <td>No TBI</td>\n",
       "      <td>No</td>\n",
       "      <td>6.0</td>\n",
       "      <td>Peripheral blood</td>\n",
       "      <td>No</td>\n",
       "      <td>No</td>\n",
       "      <td>No</td>\n",
       "      <td>MPN</td>\n",
       "      <td>6.0</td>\n",
       "      <td>+/+</td>\n",
       "      <td>10.0</td>\n",
       "      <td>2.0</td>\n",
       "      <td>NaN</td>\n",
       "      <td>5.0</td>\n",
       "      <td>2.0</td>\n",
       "      <td>No</td>\n",
       "      <td>2.0</td>\n",
       "      <td>2.0</td>\n",
       "      <td>PB</td>\n",
       "      <td>NaN</td>\n",
       "      <td>MAC</td>\n",
       "      <td>Hispanic or Latino</td>\n",
       "      <td>2018</td>\n",
       "      <td>No</td>\n",
       "      <td>NaN</td>\n",
       "      <td>Yes</td>\n",
       "      <td>NaN</td>\n",
       "      <td>2.0</td>\n",
       "      <td>No</td>\n",
       "      <td>56.81</td>\n",
       "      <td>No</td>\n",
       "      <td>2.0</td>\n",
       "      <td>No</td>\n",
       "      <td>29.740</td>\n",
       "      <td>2.0</td>\n",
       "      <td>TDEPLETION +- other</td>\n",
       "      <td>No</td>\n",
       "      <td>M-F</td>\n",
       "      <td>2.0</td>\n",
       "      <td>American Indian or Alaska Native</td>\n",
       "      <td>1.0</td>\n",
       "      <td>90.0</td>\n",
       "      <td>No</td>\n",
       "      <td>Permissive mismatched</td>\n",
       "      <td>Related</td>\n",
       "      <td>MEL</td>\n",
       "      <td>8.0</td>\n",
       "      <td>No</td>\n",
       "      <td>2.0</td>\n",
       "      <td>No</td>\n",
       "      <td>10.0</td>\n",
       "      <td>0.0</td>\n",
       "      <td>16.223</td>\n",
       "    </tr>\n",
       "  </tbody>\n",
       "</table>\n",
       "</div>"
      ],
      "text/plain": [
       "   ID                       dri_score psych_disturb    cyto_score diabetes  \\\n",
       "0   0  N/A - non-malignant indication            No           NaN       No   \n",
       "1   1                    Intermediate            No  Intermediate       No   \n",
       "2   2  N/A - non-malignant indication            No           NaN       No   \n",
       "3   3                            High            No  Intermediate       No   \n",
       "4   4                            High            No           NaN       No   \n",
       "\n",
       "   hla_match_c_high  hla_high_res_8          tbi_status arrhythmia  \\\n",
       "0               NaN             NaN              No TBI         No   \n",
       "1               2.0             8.0  TBI +- Other, >cGy         No   \n",
       "2               2.0             8.0              No TBI         No   \n",
       "3               2.0             8.0              No TBI         No   \n",
       "4               2.0             8.0              No TBI         No   \n",
       "\n",
       "   hla_low_res_6        graft_type vent_hist renal_issue pulm_severe  \\\n",
       "0            6.0       Bone marrow        No          No          No   \n",
       "1            6.0  Peripheral blood        No          No          No   \n",
       "2            6.0       Bone marrow        No          No          No   \n",
       "3            6.0       Bone marrow        No          No          No   \n",
       "4            6.0  Peripheral blood        No          No          No   \n",
       "\n",
       "  prim_disease_hct  hla_high_res_6 cmv_status  hla_high_res_10  \\\n",
       "0              IEA             6.0        +/+              NaN   \n",
       "1              AML             6.0        +/+             10.0   \n",
       "2              HIS             6.0        +/+             10.0   \n",
       "3              ALL             6.0        +/+             10.0   \n",
       "4              MPN             6.0        +/+             10.0   \n",
       "\n",
       "   hla_match_dqb1_high tce_imm_match  hla_nmdp_6  hla_match_c_low rituximab  \\\n",
       "0                  2.0           NaN         6.0              2.0        No   \n",
       "1                  2.0           P/P         6.0              2.0        No   \n",
       "2                  2.0           P/P         6.0              2.0        No   \n",
       "3                  2.0           P/P         6.0              2.0        No   \n",
       "4                  2.0           NaN         5.0              2.0        No   \n",
       "\n",
       "   hla_match_drb1_low  hla_match_dqb1_low prod_type cyto_score_detail  \\\n",
       "0                 2.0                 2.0        BM               NaN   \n",
       "1                 2.0                 2.0        PB      Intermediate   \n",
       "2                 2.0                 2.0        BM               NaN   \n",
       "3                 2.0                 2.0        BM      Intermediate   \n",
       "4                 2.0                 2.0        PB               NaN   \n",
       "\n",
       "  conditioning_intensity               ethnicity  year_hct obesity   mrd_hct  \\\n",
       "0                    NaN  Not Hispanic or Latino      2016      No       NaN   \n",
       "1                    MAC  Not Hispanic or Latino      2008      No  Positive   \n",
       "2                    NaN  Not Hispanic or Latino      2019      No       NaN   \n",
       "3                    MAC  Not Hispanic or Latino      2009      No  Positive   \n",
       "4                    MAC      Hispanic or Latino      2018      No       NaN   \n",
       "\n",
       "  in_vivo_tcd   tce_match  hla_match_a_high hepatic_severe  donor_age  \\\n",
       "0         Yes         NaN               2.0             No        NaN   \n",
       "1          No  Permissive               2.0             No      72.29   \n",
       "2         Yes         NaN               2.0             No        NaN   \n",
       "3          No  Permissive               2.0             No      29.23   \n",
       "4         Yes         NaN               2.0             No      56.81   \n",
       "\n",
       "  prior_tumor  hla_match_b_low peptic_ulcer  age_at_hct  hla_match_a_low  \\\n",
       "0          No              2.0           No       9.942              2.0   \n",
       "1          No              2.0           No      43.705              2.0   \n",
       "2          No              2.0           No      33.997              2.0   \n",
       "3          No              2.0           No      43.245              2.0   \n",
       "4          No              2.0           No      29.740              2.0   \n",
       "\n",
       "               gvhd_proph rheum_issue sex_match  hla_match_b_high  \\\n",
       "0                 FKalone          No       M-F               2.0   \n",
       "1  Other GVHD Prophylaxis          No       F-F               2.0   \n",
       "2  Cyclophosphamide alone          No       F-M               2.0   \n",
       "3       FK+ MMF +- others          No       M-M               2.0   \n",
       "4     TDEPLETION +- other          No       M-F               2.0   \n",
       "\n",
       "                         race_group  comorbidity_score  karnofsky_score  \\\n",
       "0                More than one race                0.0             90.0   \n",
       "1                             Asian                3.0             90.0   \n",
       "2                More than one race                0.0             90.0   \n",
       "3                             White                0.0             90.0   \n",
       "4  American Indian or Alaska Native                1.0             90.0   \n",
       "\n",
       "  hepatic_mild          tce_div_match donor_related      melphalan_dose  \\\n",
       "0           No                    NaN     Unrelated  N/A, Mel not given   \n",
       "1           No  Permissive mismatched       Related  N/A, Mel not given   \n",
       "2           No  Permissive mismatched       Related  N/A, Mel not given   \n",
       "3          Yes  Permissive mismatched     Unrelated  N/A, Mel not given   \n",
       "4           No  Permissive mismatched       Related                 MEL   \n",
       "\n",
       "   hla_low_res_8 cardiac  hla_match_drb1_high pulm_moderate  hla_low_res_10  \\\n",
       "0            8.0      No                  2.0            No            10.0   \n",
       "1            8.0      No                  2.0           Yes            10.0   \n",
       "2            8.0      No                  2.0            No            10.0   \n",
       "3            8.0      No                  2.0            No            10.0   \n",
       "4            8.0      No                  2.0            No            10.0   \n",
       "\n",
       "   efs  efs_time  \n",
       "0  0.0    42.356  \n",
       "1  1.0     4.672  \n",
       "2  0.0    19.793  \n",
       "3  0.0   102.349  \n",
       "4  0.0    16.223  "
      ]
     },
     "execution_count": 5,
     "metadata": {},
     "output_type": "execute_result"
    }
   ],
   "source": [
    "import numpy as np, pandas as pd\n",
    "import matplotlib.pyplot as plt\n",
    "\n",
    "pd.set_option(\"display.max_columns\", 500)\n",
    "pd.set_option(\"display.max_rows\", 500)\n",
    "\n",
    "test = pd.read_csv(\"../../data/input/equity-post-HCT-survival-predictions/test.csv\")\n",
    "print(\"Test shape:\", test.shape)\n",
    "\n",
    "train = pd.read_csv(\"../../data/input/equity-post-HCT-survival-predictions/train.csv\")\n",
    "print(\"Train shape:\", train.shape)\n",
    "train.head()\n"
   ]
  },
  {
   "cell_type": "markdown",
   "id": "77f36369",
   "metadata": {
    "papermill": {
     "duration": 0.009034,
     "end_time": "2024-12-06T23:04:06.330046",
     "exception": false,
     "start_time": "2024-12-06T23:04:06.321012",
     "status": "completed"
    },
    "tags": []
   },
   "source": [
    "# EDA on Train Targets\n",
    "There are two train targets `efs` and `efs_time`. When `efs==1` we know patient **had an event** and we know time of event is `efs_time`. When `efs==0` we **do not know** if patient had an event or not, but we do know that patient was **without event for at least** `efs_time`."
   ]
  },
  {
   "cell_type": "code",
   "execution_count": 6,
   "id": "4f72f282",
   "metadata": {
    "execution": {
     "iopub.execute_input": "2024-12-06T23:04:06.342784Z",
     "iopub.status.busy": "2024-12-06T23:04:06.342405Z",
     "iopub.status.idle": "2024-12-06T23:04:06.948653Z",
     "shell.execute_reply": "2024-12-06T23:04:06.947789Z"
    },
    "papermill": {
     "duration": 0.61482,
     "end_time": "2024-12-06T23:04:06.950480",
     "exception": false,
     "start_time": "2024-12-06T23:04:06.335660",
     "status": "completed"
    },
    "tags": []
   },
   "outputs": [
    {
     "data": {
      "image/png": "[encoded data removed]",
      "text/plain": [
       "<Figure size 640x480 with 1 Axes>"
      ]
     },
     "metadata": {},
     "output_type": "display_data"
    }
   ],
   "source": [
    "plt.hist(train.loc[train.efs == 1, \"efs_time\"], bins=100, label=\"efs=1, Yes Event\")\n",
    "plt.hist(train.loc[train.efs == 0, \"efs_time\"], bins=100, label=\"efs=0, Maybe Event\")\n",
    "plt.xlabel(\"Time of Observation, efs_time\")\n",
    "plt.ylabel(\"Density\")\n",
    "plt.title(\"Times of Observation. Either time to event, or time observed without event.\")\n",
    "plt.legend()\n",
    "plt.show()\n"
   ]
  },
  {
   "cell_type": "markdown",
   "id": "1bd43384",
   "metadata": {
    "papermill": {
     "duration": 0.005834,
     "end_time": "2024-12-06T23:04:06.962521",
     "exception": false,
     "start_time": "2024-12-06T23:04:06.956687",
     "status": "completed"
    },
    "tags": []
   },
   "source": [
    "# Transform Two Train Targets into One Target!\n",
    "Both targets `efs` and `efs_time` provide useful information. We will tranform these two targets into a single target to train our model with. In this competition we need to predict `risk score`. So we will create a target that mimics `risk score` to train our model. (Note this is only one out of many ways to transform two targets into one target. Considering experimenting on your own)."
   ]
  },
  {
   "cell_type": "code",
   "execution_count": 7,
   "id": "e990f57e",
   "metadata": {
    "execution": {
     "iopub.execute_input": "2024-12-06T23:04:06.975565Z",
     "iopub.status.busy": "2024-12-06T23:04:06.975316Z",
     "iopub.status.idle": "2024-12-06T23:04:07.479218Z",
     "shell.execute_reply": "2024-12-06T23:04:07.478372Z"
    },
    "papermill": {
     "duration": 0.513092,
     "end_time": "2024-12-06T23:04:07.481468",
     "exception": false,
     "start_time": "2024-12-06T23:04:06.968376",
     "status": "completed"
    },
    "tags": []
   },
   "outputs": [
    {
     "data": {
      "image/png": "[encoded data removed]",
      "text/plain": [
       "<Figure size 640x480 with 1 Axes>"
      ]
     },
     "metadata": {},
     "output_type": "display_data"
    }
   ],
   "source": [
    "train[\"y\"] = train.efs_time.values\n",
    "mx = train.loc[train.efs == 1, \"efs_time\"].max()\n",
    "mn = train.loc[train.efs == 0, \"efs_time\"].min()\n",
    "train.loc[train.efs == 0, \"y\"] = train.loc[train.efs == 0, \"y\"] + mx - mn\n",
    "train.y = train.y.rank()\n",
    "train.loc[train.efs == 0, \"y\"] += 2 * len(train)\n",
    "train.y = train.y / train.y.max()\n",
    "train.y = np.log(train.y)\n",
    "train.y -= train.y.mean()\n",
    "train.y *= -1.0\n",
    "\n",
    "plt.hist(train.loc[train.efs == 1, \"y\"], bins=100, label=\"efs=1, Yes Event\")\n",
    "plt.hist(train.loc[train.efs == 0, \"y\"], bins=100, label=\"efs=0, Maybe Event\")\n",
    "plt.xlim((-5, 5))\n",
    "plt.xlabel(\"Transformed Target y\")\n",
    "plt.ylabel(\"Density\")\n",
    "plt.title(\"Transformed Target y using both efs and efs_time.\")\n",
    "plt.legend()\n",
    "plt.show()\n"
   ]
  },
  {
   "cell_type": "markdown",
   "id": "460105ad",
   "metadata": {
    "papermill": {
     "duration": 0.007372,
     "end_time": "2024-12-06T23:04:07.500843",
     "exception": false,
     "start_time": "2024-12-06T23:04:07.493471",
     "status": "completed"
    },
    "tags": []
   },
   "source": [
    "# Features\n",
    "There are a total of 57 features. From these 35 are categorical and 22 are numerical. Since most of the numerical features has only a few unique values, we will treat all features except `donor_age` and `act_at_hct` as categorical for our NN. So we will feed our NN 55 categorical features and 2 numerical features."
   ]
  },
  {
   "cell_type": "code",
   "execution_count": 8,
   "id": "4749f89f",
   "metadata": {
    "execution": {
     "iopub.execute_input": "2024-12-06T23:04:07.514627Z",
     "iopub.status.busy": "2024-12-06T23:04:07.514345Z",
     "iopub.status.idle": "2024-12-06T23:04:07.519295Z",
     "shell.execute_reply": "2024-12-06T23:04:07.518507Z"
    },
    "papermill": {
     "duration": 0.013865,
     "end_time": "2024-12-06T23:04:07.520977",
     "exception": false,
     "start_time": "2024-12-06T23:04:07.507112",
     "status": "completed"
    },
    "tags": []
   },
   "outputs": [
    {
     "name": "stdout",
     "output_type": "stream",
     "text": [
      "There are 57 FEATURES: ['dri_score', 'psych_disturb', 'cyto_score', 'diabetes', 'hla_match_c_high', 'hla_high_res_8', 'tbi_status', 'arrhythmia', 'hla_low_res_6', 'graft_type', 'vent_hist', 'renal_issue', 'pulm_severe', 'prim_disease_hct', 'hla_high_res_6', 'cmv_status', 'hla_high_res_10', 'hla_match_dqb1_high', 'tce_imm_match', 'hla_nmdp_6', 'hla_match_c_low', 'rituximab', 'hla_match_drb1_low', 'hla_match_dqb1_low', 'prod_type', 'cyto_score_detail', 'conditioning_intensity', 'ethnicity', 'year_hct', 'obesity', 'mrd_hct', 'in_vivo_tcd', 'tce_match', 'hla_match_a_high', 'hepatic_severe', 'donor_age', 'prior_tumor', 'hla_match_b_low', 'peptic_ulcer', 'age_at_hct', 'hla_match_a_low', 'gvhd_proph', 'rheum_issue', 'sex_match', 'hla_match_b_high', 'race_group', 'comorbidity_score', 'karnofsky_score', 'hepatic_mild', 'tce_div_match', 'donor_related', 'melphalan_dose', 'hla_low_res_8', 'cardiac', 'hla_match_drb1_high', 'pulm_moderate', 'hla_low_res_10']\n"
     ]
    }
   ],
   "source": [
    "RMV = [\"ID\", \"efs\", \"efs_time\", \"y\"]\n",
    "FEATURES = [c for c in train.columns if not c in RMV]\n",
    "print(f\"There are {len(FEATURES)} FEATURES: {FEATURES}\")\n"
   ]
  },
  {
   "cell_type": "code",
   "execution_count": 9,
   "id": "4544cf94",
   "metadata": {
    "execution": {
     "iopub.execute_input": "2024-12-06T23:04:07.534577Z",
     "iopub.status.busy": "2024-12-06T23:04:07.534314Z",
     "iopub.status.idle": "2024-12-06T23:04:07.882733Z",
     "shell.execute_reply": "2024-12-06T23:04:07.881758Z"
    },
    "papermill": {
     "duration": 0.357395,
     "end_time": "2024-12-06T23:04:07.884625",
     "exception": false,
     "start_time": "2024-12-06T23:04:07.527230",
     "status": "completed"
    },
    "tags": []
   },
   "outputs": [
    {
     "name": "stdout",
     "output_type": "stream",
     "text": [
      "In these features, there are 55 CATEGORICAL FEATURES: ['dri_score', 'psych_disturb', 'cyto_score', 'diabetes', 'hla_match_c_high', 'hla_high_res_8', 'tbi_status', 'arrhythmia', 'hla_low_res_6', 'graft_type', 'vent_hist', 'renal_issue', 'pulm_severe', 'prim_disease_hct', 'hla_high_res_6', 'cmv_status', 'hla_high_res_10', 'hla_match_dqb1_high', 'tce_imm_match', 'hla_nmdp_6', 'hla_match_c_low', 'rituximab', 'hla_match_drb1_low', 'hla_match_dqb1_low', 'prod_type', 'cyto_score_detail', 'conditioning_intensity', 'ethnicity', 'year_hct', 'obesity', 'mrd_hct', 'in_vivo_tcd', 'tce_match', 'hla_match_a_high', 'hepatic_severe', 'prior_tumor', 'hla_match_b_low', 'peptic_ulcer', 'hla_match_a_low', 'gvhd_proph', 'rheum_issue', 'sex_match', 'hla_match_b_high', 'race_group', 'comorbidity_score', 'karnofsky_score', 'hepatic_mild', 'tce_div_match', 'donor_related', 'melphalan_dose', 'hla_low_res_8', 'cardiac', 'hla_match_drb1_high', 'pulm_moderate', 'hla_low_res_10']\n"
     ]
    }
   ],
   "source": [
    "CATS = []\n",
    "for c in FEATURES:\n",
    "    if train[c].dtype == \"object\":\n",
    "        train[c] = train[c].fillna(\"NAN\")\n",
    "        test[c] = test[c].fillna(\"NAN\")\n",
    "        CATS.append(c)\n",
    "    elif not \"age\" in c:\n",
    "        train[c] = train[c].astype(\"str\")\n",
    "        test[c] = test[c].astype(\"str\")\n",
    "        CATS.append(c)\n",
    "print(f\"In these features, there are {len(CATS)} CATEGORICAL FEATURES: {CATS}\")\n"
   ]
  },
  {
   "cell_type": "code",
   "execution_count": 10,
   "id": "85bd29b2",
   "metadata": {
    "execution": {
     "iopub.execute_input": "2024-12-06T23:04:07.899967Z",
     "iopub.status.busy": "2024-12-06T23:04:07.899245Z",
     "iopub.status.idle": "2024-12-06T23:04:08.094302Z",
     "shell.execute_reply": "2024-12-06T23:04:08.093640Z"
    },
    "papermill": {
     "duration": 0.204141,
     "end_time": "2024-12-06T23:04:08.096045",
     "exception": false,
     "start_time": "2024-12-06T23:04:07.891904",
     "status": "completed"
    },
    "tags": []
   },
   "outputs": [
    {
     "name": "stdout",
     "output_type": "stream",
     "text": [
      "We LABEL ENCODE the CATEGORICAL FEATURES: \n",
      "dri_score has (12) unique values\n",
      "psych_disturb has (4) unique values\n",
      "cyto_score has (8) unique values\n",
      "diabetes has (4) unique values\n",
      "hla_match_c_high has (4) unique values\n",
      "hla_high_res_8 has (8) unique values\n",
      "tbi_status has (8) unique values\n",
      "arrhythmia has (4) unique values\n",
      "hla_low_res_6 has (6) unique values\n",
      "graft_type has (2) unique values\n",
      "vent_hist has (3) unique values\n",
      "renal_issue has (4) unique values\n",
      "pulm_severe has (4) unique values\n",
      "prim_disease_hct has (18) unique values\n",
      "hla_high_res_6 has (7) unique values\n",
      "cmv_status has (5) unique values\n",
      "hla_high_res_10 has (9) unique values\n",
      "hla_match_dqb1_high has (4) unique values\n",
      "tce_imm_match has (9) unique values\n",
      "hla_nmdp_6 has (6) unique values\n",
      "hla_match_c_low has (4) unique values\n",
      "rituximab has (3) unique values\n",
      "hla_match_drb1_low has (3) unique values\n",
      "hla_match_dqb1_low has (4) unique values\n",
      "prod_type has (2) unique values\n",
      "cyto_score_detail has (6) unique values\n",
      "conditioning_intensity has (7) unique values\n",
      "ethnicity has (4) unique values\n",
      "year_hct has (13) unique values\n",
      "obesity has (4) unique values\n",
      "mrd_hct has (3) unique values\n",
      "in_vivo_tcd has (3) unique values\n",
      "tce_match has (5) unique values\n",
      "hla_match_a_high has (4) unique values\n",
      "hepatic_severe has (4) unique values\n",
      "prior_tumor has (4) unique values\n",
      "hla_match_b_low has (4) unique values\n",
      "peptic_ulcer has (4) unique values\n",
      "hla_match_a_low has (4) unique values\n",
      "gvhd_proph has (18) unique values\n",
      "rheum_issue has (4) unique values\n",
      "sex_match has (5) unique values\n",
      "hla_match_b_high has (4) unique values\n",
      "race_group has (6) unique values\n",
      "comorbidity_score has (12) unique values\n",
      "karnofsky_score has (8) unique values\n",
      "hepatic_mild has (4) unique values\n",
      "tce_div_match has (5) unique values\n",
      "donor_related has (4) unique values\n",
      "melphalan_dose has (3) unique values\n",
      "hla_low_res_8 has (8) unique values\n",
      "cardiac has (4) unique values\n",
      "hla_match_drb1_high has (4) unique values\n",
      "pulm_moderate has (4) unique values\n",
      "hla_low_res_10 has (8) unique values\n"
     ]
    }
   ],
   "source": [
    "CAT_SIZE = []\n",
    "CAT_EMB = []\n",
    "NUMS = []\n",
    "\n",
    "combined = pd.concat([train, test], axis=0, ignore_index=True)\n",
    "# print(\"Combined data shape:\", combined.shape )\n",
    "\n",
    "print(\"We LABEL ENCODE the CATEGORICAL FEATURES: \")\n",
    "\n",
    "for c in FEATURES:\n",
    "    if c in CATS:\n",
    "        # LABEL ENCODE\n",
    "        combined[c], _ = combined[c].factorize()\n",
    "        combined[c] -= combined[c].min()\n",
    "        combined[c] = combined[c].astype(\"int32\")\n",
    "        # combined[c] = combined[c].astype(\"category\")\n",
    "\n",
    "        n = combined[c].nunique()\n",
    "        mn = combined[c].min()\n",
    "        mx = combined[c].max()\n",
    "        print(f\"{c} has ({n}) unique values\")\n",
    "\n",
    "        CAT_SIZE.append(mx + 1)\n",
    "        CAT_EMB.append(int(np.ceil(np.sqrt(mx + 1))))\n",
    "    else:\n",
    "        if combined[c].dtype == \"float64\":\n",
    "            combined[c] = combined[c].astype(\"float32\")\n",
    "        if combined[c].dtype == \"int64\":\n",
    "            combined[c] = combined[c].astype(\"int32\")\n",
    "\n",
    "        m = combined[c].mean()\n",
    "        s = combined[c].std()\n",
    "        combined[c] = (combined[c] - m) / s\n",
    "        combined[c] = combined[c].fillna(0)\n",
    "\n",
    "        NUMS.append(c)\n",
    "\n",
    "train = combined.iloc[: len(train)].copy()\n",
    "test = combined.iloc[len(train) :].reset_index(drop=True).copy()\n"
   ]
  },
  {
   "cell_type": "markdown",
   "id": "b68e21c9",
   "metadata": {
    "papermill": {
     "duration": 0.006301,
     "end_time": "2024-12-06T23:04:08.109207",
     "exception": false,
     "start_time": "2024-12-06T23:04:08.102906",
     "status": "completed"
    },
    "tags": []
   },
   "source": [
    "# TensorFlow NN\n",
    "We train NN model with CV 0.670!"
   ]
  },
  {
   "cell_type": "code",
   "execution_count": 11,
   "id": "552e9537",
   "metadata": {
    "execution": {
     "iopub.execute_input": "2024-12-06T23:04:08.123081Z",
     "iopub.status.busy": "2024-12-06T23:04:08.122833Z",
     "iopub.status.idle": "2024-12-06T23:04:20.392376Z",
     "shell.execute_reply": "2024-12-06T23:04:20.391411Z"
    },
    "papermill": {
     "duration": 12.278669,
     "end_time": "2024-12-06T23:04:20.394231",
     "exception": false,
     "start_time": "2024-12-06T23:04:08.115562",
     "status": "completed"
    },
    "tags": []
   },
   "outputs": [
    {
     "name": "stdout",
     "output_type": "stream",
     "text": [
      "TF Version 2.17.0\n"
     ]
    }
   ],
   "source": [
    "import tensorflow as tf\n",
    "from tensorflow.keras.models import Model\n",
    "from tensorflow.keras.layers import Dense, Dropout, Input, Embedding\n",
    "from tensorflow.keras.layers import Concatenate, BatchNormalization\n",
    "import tensorflow.keras.backend as K\n",
    "from sklearn.model_selection import KFold\n",
    "\n",
    "print(\"TF Version\", tf.__version__)\n"
   ]
  },
  {
   "cell_type": "markdown",
   "id": "4a8e76af",
   "metadata": {
    "papermill": {
     "duration": 0.006645,
     "end_time": "2024-12-06T23:04:20.407714",
     "exception": false,
     "start_time": "2024-12-06T23:04:20.401069",
     "status": "completed"
    },
    "tags": []
   },
   "source": [
    "## Learning Schedule"
   ]
  },
  {
   "cell_type": "code",
   "execution_count": 14,
   "id": "373ad364",
   "metadata": {
    "execution": {
     "iopub.execute_input": "2024-12-06T23:04:20.422011Z",
     "iopub.status.busy": "2024-12-06T23:04:20.421526Z",
     "iopub.status.idle": "2024-12-06T23:04:20.654559Z",
     "shell.execute_reply": "2024-12-06T23:04:20.653810Z"
    },
    "papermill": {
     "duration": 0.242074,
     "end_time": "2024-12-06T23:04:20.656239",
     "exception": false,
     "start_time": "2024-12-06T23:04:20.414165",
     "status": "completed"
    },
    "tags": []
   },
   "outputs": [
    {
     "name": "stdout",
     "output_type": "stream",
     "text": [
      "Learning rate schedule: 0.01 to 0.01 to 0.0001\n"
     ]
    },
    {
     "data": {
      "image/png": "[encoded data removed]",
      "text/plain": [
       "<Figure size 1000x400 with 1 Axes>"
      ]
     },
     "metadata": {},
     "output_type": "display_data"
    }
   ],
   "source": [
    "EPOCHS = 4\n",
    "LRS = [0.01] * 2 + [0.001] * 1 + [0.0001] * 1\n",
    "\n",
    "\n",
    "def lrfn(epoch):\n",
    "    return LRS[epoch]\n",
    "\n",
    "\n",
    "rng = [i for i in range(EPOCHS)]\n",
    "lr_y = [lrfn(x) for x in rng]\n",
    "plt.figure(figsize=(10, 4))\n",
    "plt.plot(rng, lr_y, \"-o\")\n",
    "print(\"Learning rate schedule: {:.3g} to {:.3g} to {:.3g}\".format(lr_y[0], max(lr_y), lr_y[-1]))\n",
    "plt.xlabel(\"Epoch\")\n",
    "plt.ylabel(\"Learning Rate\")\n",
    "plt.title(\"Learning Rate Schedule\")\n",
    "plt.show()\n",
    "\n",
    "lr_callback = tf.keras.callbacks.LearningRateScheduler(lrfn, verbose=False)\n"
   ]
  },
  {
   "cell_type": "markdown",
   "id": "1781e0b7",
   "metadata": {
    "papermill": {
     "duration": 0.006659,
     "end_time": "2024-12-06T23:04:20.670200",
     "exception": false,
     "start_time": "2024-12-06T23:04:20.663541",
     "status": "completed"
    },
    "tags": []
   },
   "source": [
    "## Model Definition\n",
    "We use embedding layers for all label encoded categorical features. Then we concatenate all categorical embeddings with the numerical features. We create an MLP with two hidden layers. Our final output layer has one linear neuron and during training we use MSE loss with Adam optimizer."
   ]
  },
  {
   "cell_type": "code",
   "execution_count": 15,
   "id": "38bd0573",
   "metadata": {
    "execution": {
     "iopub.execute_input": "2024-12-06T23:04:20.685536Z",
     "iopub.status.busy": "2024-12-06T23:04:20.684925Z",
     "iopub.status.idle": "2024-12-06T23:04:20.690536Z",
     "shell.execute_reply": "2024-12-06T23:04:20.689809Z"
    },
    "papermill": {
     "duration": 0.015006,
     "end_time": "2024-12-06T23:04:20.692138",
     "exception": false,
     "start_time": "2024-12-06T23:04:20.677132",
     "status": "completed"
    },
    "tags": []
   },
   "outputs": [],
   "source": [
    "def build_model():\n",
    "    # CATEGORICAL FEATURES\n",
    "    x_input_cats = Input(shape=(len(CATS),))\n",
    "    embs = []\n",
    "    for j in range(len(CATS)):\n",
    "        e = tf.keras.layers.Embedding(CAT_SIZE[j], CAT_EMB[j])\n",
    "        x = e(x_input_cats[:, j])\n",
    "        x = tf.keras.layers.Flatten()(x)\n",
    "        embs.append(x)\n",
    "\n",
    "    # NUMERICAL FEATURES\n",
    "    x_input_nums = Input(shape=(len(NUMS),))\n",
    "\n",
    "    # COMBINE\n",
    "    x = tf.keras.layers.Concatenate(axis=-1)(embs + [x_input_nums])\n",
    "    x = Dense(256, activation=\"relu\")(x)\n",
    "    x = Dense(256, activation=\"relu\")(x)\n",
    "    x = Dense(1, activation=\"linear\")(x)\n",
    "\n",
    "    model = Model(inputs=[x_input_cats, x_input_nums], outputs=x)\n",
    "\n",
    "    return model\n"
   ]
  },
  {
   "cell_type": "markdown",
   "id": "e5ff6ca2",
   "metadata": {
    "papermill": {
     "duration": 0.006575,
     "end_time": "2024-12-06T23:04:20.705517",
     "exception": false,
     "start_time": "2024-12-06T23:04:20.698942",
     "status": "completed"
    },
    "tags": []
   },
   "source": [
    "## Train K Fold\n",
    "We train our NN below. If you want to save the trained model weights, you can uncomment the commented lines below."
   ]
  },
  {
   "cell_type": "code",
   "execution_count": 16,
   "id": "04e6617c",
   "metadata": {
    "execution": {
     "iopub.execute_input": "2024-12-06T23:04:20.720152Z",
     "iopub.status.busy": "2024-12-06T23:04:20.719911Z",
     "iopub.status.idle": "2024-12-06T23:09:31.720372Z",
     "shell.execute_reply": "2024-12-06T23:09:31.719410Z"
    },
    "papermill": {
     "duration": 311.019692,
     "end_time": "2024-12-06T23:09:31.732036",
     "exception": false,
     "start_time": "2024-12-06T23:04:20.712344",
     "status": "completed"
    },
    "tags": []
   },
   "outputs": [
    {
     "name": "stdout",
     "output_type": "stream",
     "text": [
      "#########################\n",
      "### REPEAT 1 ###\n",
      "#########################\n",
      "  #########################\n",
      "  ### Fold 1 ###\n",
      "  #########################\n",
      "Epoch 1/4\n",
      "45/45 - 11s - 248ms/step - loss: 1.9858 - val_loss: 1.8443 - learning_rate: 0.0100\n",
      "Epoch 2/4\n",
      "45/45 - 0s - 3ms/step - loss: 1.8475 - val_loss: 1.8466 - learning_rate: 0.0100\n",
      "Epoch 3/4\n",
      "45/45 - 0s - 3ms/step - loss: 1.7751 - val_loss: 1.8228 - learning_rate: 0.0010\n",
      "Epoch 4/4\n",
      "45/45 - 0s - 4ms/step - loss: 1.7562 - val_loss: 1.8158 - learning_rate: 1.0000e-04\n",
      "12/12 - 2s - 166ms/step\n",
      "1/1 - 1s - 1s/step\n",
      "  #########################\n",
      "  ### Fold 2 ###\n",
      "  #########################\n",
      "Epoch 1/4\n",
      "45/45 - 7s - 162ms/step - loss: 1.9903 - val_loss: 1.8430 - learning_rate: 0.0100\n",
      "Epoch 2/4\n",
      "45/45 - 0s - 5ms/step - loss: 1.8371 - val_loss: 1.8254 - learning_rate: 0.0100\n",
      "Epoch 3/4\n",
      "45/45 - 0s - 6ms/step - loss: 1.7674 - val_loss: 1.7993 - learning_rate: 0.0010\n",
      "Epoch 4/4\n",
      "45/45 - 0s - 5ms/step - loss: 1.7455 - val_loss: 1.7995 - learning_rate: 1.0000e-04\n",
      "12/12 - 2s - 137ms/step\n",
      "1/1 - 0s - 439ms/step\n",
      "  #########################\n",
      "  ### Fold 3 ###\n",
      "  #########################\n",
      "Epoch 1/4\n",
      "45/45 - 7s - 164ms/step - loss: 1.9847 - val_loss: 1.8816 - learning_rate: 0.0100\n",
      "Epoch 2/4\n",
      "45/45 - 0s - 5ms/step - loss: 1.8344 - val_loss: 1.8484 - learning_rate: 0.0100\n",
      "Epoch 3/4\n",
      "45/45 - 0s - 7ms/step - loss: 1.7651 - val_loss: 1.8306 - learning_rate: 0.0010\n",
      "Epoch 4/4\n",
      "45/45 - 0s - 5ms/step - loss: 1.7438 - val_loss: 1.8312 - learning_rate: 1.0000e-04\n",
      "12/12 - 2s - 139ms/step\n",
      "1/1 - 0s - 448ms/step\n",
      "  #########################\n",
      "  ### Fold 4 ###\n",
      "  #########################\n",
      "Epoch 1/4\n",
      "45/45 - 7s - 162ms/step - loss: 1.9955 - val_loss: 1.8713 - learning_rate: 0.0100\n",
      "Epoch 2/4\n",
      "45/45 - 0s - 4ms/step - loss: 1.8503 - val_loss: 1.8744 - learning_rate: 0.0100\n",
      "Epoch 3/4\n",
      "45/45 - 0s - 3ms/step - loss: 1.7948 - val_loss: 1.8508 - learning_rate: 0.0010\n",
      "Epoch 4/4\n",
      "45/45 - 0s - 4ms/step - loss: 1.7797 - val_loss: 1.8478 - learning_rate: 1.0000e-04\n",
      "12/12 - 2s - 138ms/step\n",
      "1/1 - 0s - 438ms/step\n",
      "  #########################\n",
      "  ### Fold 5 ###\n",
      "  #########################\n",
      "Epoch 1/4\n",
      "45/45 - 7s - 163ms/step - loss: 1.9672 - val_loss: 1.8757 - learning_rate: 0.0100\n",
      "Epoch 2/4\n",
      "45/45 - 0s - 6ms/step - loss: 1.8249 - val_loss: 1.8634 - learning_rate: 0.0100\n",
      "Epoch 3/4\n",
      "45/45 - 0s - 8ms/step - loss: 1.7563 - val_loss: 1.8367 - learning_rate: 0.0010\n",
      "Epoch 4/4\n",
      "45/45 - 0s - 4ms/step - loss: 1.7322 - val_loss: 1.8382 - learning_rate: 1.0000e-04\n",
      "12/12 - 2s - 161ms/step\n",
      "1/1 - 0s - 440ms/step\n",
      "CPU times: user 1min 22s, sys: 6.04 s, total: 1min 28s\n",
      "Wall time: 1min 4s\n"
     ]
    }
   ],
   "source": [
    "%%time\n",
    "\n",
    "REPEATS = 1\n",
    "FOLDS = 5\n",
    "kf = KFold(n_splits=FOLDS, random_state=42, shuffle=True)\n",
    "\n",
    "oof_nn = np.zeros(len(train))\n",
    "pred_nn = np.zeros(len(test))\n",
    "\n",
    "# directory = \"checkpoints\"\n",
    "# if not os.path.exists(directory):\n",
    "#    os.makedirs(directory)\n",
    "\n",
    "for r in range(REPEATS):\n",
    "    VERBOSE = r == 0\n",
    "    print(\"#\" * 25)\n",
    "    print(f\"### REPEAT {r+1} ###\")\n",
    "    print(\"#\" * 25)\n",
    "\n",
    "    for i, (train_index, test_index) in enumerate(kf.split(train)):\n",
    "        X_train_cats = train.loc[train_index, CATS].values\n",
    "        X_train_nums = train.loc[train_index, NUMS].values\n",
    "        y_train = train.loc[train_index, \"y\"].values\n",
    "        y_train2 = train.loc[train_index, \"efs\"].values\n",
    "\n",
    "        X_valid_cats = train.loc[test_index, CATS].values\n",
    "        X_valid_nums = train.loc[test_index, NUMS].values\n",
    "        y_valid = train.loc[test_index, \"y\"].values\n",
    "        y_valid2 = train.loc[test_index, \"efs\"].values\n",
    "\n",
    "        X_test_cats = test[CATS].values\n",
    "        X_test_nums = test[NUMS].values\n",
    "\n",
    "        if VERBOSE:\n",
    "            print(\" \", \"#\" * 25)\n",
    "            print(\" \", f\"### Fold {i+1} ###\")\n",
    "            print(\" \", \"#\" * 25)\n",
    "\n",
    "        # TRAIN MODEL\n",
    "        K.clear_session()\n",
    "        model = build_model()\n",
    "        model.compile(\n",
    "            optimizer=tf.keras.optimizers.Adam(0.001),\n",
    "            loss=\"mean_squared_error\",\n",
    "        )\n",
    "        v = 2 if VERBOSE else 0\n",
    "        model.fit(\n",
    "            [X_train_cats, X_train_nums],\n",
    "            [y_train],\n",
    "            validation_data=([X_valid_cats, X_valid_nums], [y_valid]),\n",
    "            callbacks=[lr_callback],\n",
    "            batch_size=512,\n",
    "            epochs=EPOCHS,\n",
    "            verbose=v,\n",
    "        )\n",
    "        # model.save_weights(f'{directory}/NN_f{i}_r{r}.weights.h5')\n",
    "\n",
    "        # INFER OOF\n",
    "        oof_nn[test_index] += model.predict([X_valid_cats, X_valid_nums], verbose=v, batch_size=512).flatten()\n",
    "        # INFER TEST\n",
    "        pred_nn += model.predict([X_test_cats, X_test_nums], verbose=v, batch_size=512).flatten()\n",
    "\n",
    "oof_nn /= REPEATS\n",
    "pred_nn /= FOLDS * REPEATS\n"
   ]
  },
  {
   "cell_type": "markdown",
   "id": "54774e8f",
   "metadata": {
    "papermill": {
     "duration": 0.009109,
     "end_time": "2024-12-06T23:09:31.750582",
     "exception": false,
     "start_time": "2024-12-06T23:09:31.741473",
     "status": "completed"
    },
    "tags": []
   },
   "source": [
    "## Compute Overall Metric"
   ]
  },
  {
   "cell_type": "code",
   "execution_count": 12,
   "id": "8133c44c",
   "metadata": {
    "execution": {
     "iopub.execute_input": "2024-12-06T23:09:31.770637Z",
     "iopub.status.busy": "2024-12-06T23:09:31.770319Z",
     "iopub.status.idle": "2024-12-06T23:09:32.163057Z",
     "shell.execute_reply": "2024-12-06T23:09:32.162185Z"
    },
    "papermill": {
     "duration": 0.405032,
     "end_time": "2024-12-06T23:09:32.164954",
     "exception": false,
     "start_time": "2024-12-06T23:09:31.759922",
     "status": "completed"
    },
    "tags": []
   },
   "outputs": [
    {
     "name": "stdout",
     "output_type": "stream",
     "text": [
      "\n",
      "Overall CV for NN = 0.670442844850736\n"
     ]
    }
   ],
   "source": [
    "from metric import score\n",
    "\n",
    "y_true = train[[\"ID\", \"efs\", \"efs_time\", \"race_group\"]].copy()\n",
    "y_pred = train[[\"ID\"]].copy()\n",
    "# y_pred[\"prediction\"] = oof_nn\n",
    "y_pred[\"prediction\"] = \n",
    "m = score(y_true.copy(), y_pred.copy(), \"ID\")\n",
    "print(f\"\\nOverall CV for NN =\", m)\n"
   ]
  },
  {
   "cell_type": "markdown",
   "id": "91d900dd",
   "metadata": {
    "papermill": {
     "duration": 0.009379,
     "end_time": "2024-12-06T23:09:32.184179",
     "exception": false,
     "start_time": "2024-12-06T23:09:32.174800",
     "status": "completed"
    },
    "tags": []
   },
   "source": [
    "# Create Submission CSV"
   ]
  },
  {
   "cell_type": "code",
   "execution_count": 13,
   "id": "f5adee05",
   "metadata": {
    "execution": {
     "iopub.execute_input": "2024-12-06T23:09:32.204430Z",
     "iopub.status.busy": "2024-12-06T23:09:32.204137Z",
     "iopub.status.idle": "2024-12-06T23:09:32.219103Z",
     "shell.execute_reply": "2024-12-06T23:09:32.218311Z"
    },
    "papermill": {
     "duration": 0.026656,
     "end_time": "2024-12-06T23:09:32.220505",
     "exception": false,
     "start_time": "2024-12-06T23:09:32.193849",
     "status": "completed"
    },
    "tags": []
   },
   "outputs": [
    {
     "name": "stdout",
     "output_type": "stream",
     "text": [
      "Sub shape: (3, 2)\n"
     ]
    },
    {
     "data": {
      "text/html": [
       "<div>\n",
       "<style scoped>\n",
       "    .dataframe tbody tr th:only-of-type {\n",
       "        vertical-align: middle;\n",
       "    }\n",
       "\n",
       "    .dataframe tbody tr th {\n",
       "        vertical-align: top;\n",
       "    }\n",
       "\n",
       "    .dataframe thead th {\n",
       "        text-align: right;\n",
       "    }\n",
       "</style>\n",
       "<table border=\"1\" class=\"dataframe\">\n",
       "  <thead>\n",
       "    <tr style=\"text-align: right;\">\n",
       "      <th></th>\n",
       "      <th>ID</th>\n",
       "      <th>prediction</th>\n",
       "    </tr>\n",
       "  </thead>\n",
       "  <tbody>\n",
       "    <tr>\n",
       "      <th>0</th>\n",
       "      <td>28800</td>\n",
       "      <td>-1.022827</td>\n",
       "    </tr>\n",
       "    <tr>\n",
       "      <th>1</th>\n",
       "      <td>28801</td>\n",
       "      <td>0.039404</td>\n",
       "    </tr>\n",
       "    <tr>\n",
       "      <th>2</th>\n",
       "      <td>28802</td>\n",
       "      <td>-1.456978</td>\n",
       "    </tr>\n",
       "  </tbody>\n",
       "</table>\n",
       "</div>"
      ],
      "text/plain": [
       "      ID  prediction\n",
       "0  28800   -1.022827\n",
       "1  28801    0.039404\n",
       "2  28802   -1.456978"
      ]
     },
     "execution_count": 13,
     "metadata": {},
     "output_type": "execute_result"
    }
   ],
   "source": [
    "sub = pd.read_csv(\"/kaggle/input/equity-post-HCT-survival-predictions/sample_submission.csv\")\n",
    "sub.prediction = pred_nn\n",
    "sub.to_csv(\"submission.csv\", index=False)\n",
    "print(\"Sub shape:\", sub.shape)\n",
    "sub.head()\n"
   ]
  }
 ],
 "metadata": {
  "kaggle": {
   "accelerator": "nvidiaTeslaT4",
   "dataSources": [
    {
     "databundleVersionId": 10381525,
     "sourceId": 70942,
     "sourceType": "competition"
    },
    {
     "sourceId": 211253469,
     "sourceType": "kernelVersion"
    },
    {
     "sourceId": 211322530,
     "sourceType": "kernelVersion"
    }
   ],
   "dockerImageVersionId": 30805,
   "isGpuEnabled": true,
   "isInternetEnabled": false,
   "language": "python",
   "sourceType": "notebook"
  },
  "kernelspec": {
   "display_name": "Python 3",
   "language": "python",
   "name": "python3"
  },
  "language_info": {
   "codemirror_mode": {
    "name": "ipython",
    "version": 3
   },
   "file_extension": ".py",
   "mimetype": "text/x-python",
   "name": "python",
   "nbconvert_exporter": "python",
   "pygments_lexer": "ipython3",
   "version": "3.10.12"
  },
  "papermill": {
   "default_parameters": {},
   "duration": 536.891542,
   "end_time": "2024-12-06T23:09:35.833839",
   "environment_variables": {},
   "exception": null,
   "input_path": "__notebook__.ipynb",
   "output_path": "__notebook__.ipynb",
   "parameters": {},
   "start_time": "2024-12-06T23:00:38.942297",
   "version": "2.6.0"
  }
 },
 "nbformat": 4,
 "nbformat_minor": 5
}

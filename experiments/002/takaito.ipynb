{
 "cells": [
  {
   "cell_type": "markdown",
   "id": "9cd6f0da",
   "metadata": {
    "papermill": {
     "duration": 0.00664,
     "end_time": "2024-11-15T20:37:47.282096",
     "exception": false,
     "start_time": "2024-11-15T20:37:47.275456",
     "status": "completed"
    },
    "tags": []
   },
   "source": [
    "kaggleなどでよく使用される勾配ブースティングモデル3種を試すことが可能なnotebookです．\n",
    "\n",
    "愚直に各目的変数を予測するモデルを学習させています．\n",
    "\n",
    "Preprocessingという関数の中で特徴量作成を始めとした工夫を凝らすことが，コンペでスコアを上げていく方法の一つの方法となります．\n",
    "\n",
    "細かいハイパーパラメータの設定などは，atmaのgotoさんが記事にまとめてくれているので，こちらを自身はいつも参考にしております．\n",
    "[勾配ブースティングで大事なパラメータの気持ち](https://nykergoto.hatenablog.jp/entry/2019/03/29/%E5%8B%BE%E9%85%8D%E3%83%96%E3%83%BC%E3%82%B9%E3%83%86%E3%82%A3%E3%83%B3%E3%82%B0%E3%81%A7%E5%A4%A7%E4%BA%8B%E3%81%AA%E3%83%91%E3%83%A9%E3%83%A1%E3%83%BC%E3%82%BF%E3%81%AE%E6%B0%97%E6%8C%81%E3%81%A1)\n",
    "\n",
    "サブ数に上限があるatmaCupでは手元の実験により，LBスコアや最終的なスコアの見積もりが重要になります．\n",
    "\n",
    "今回のコンペでは，学習データとテストデータで日付で区切られているとのことなので，学習データとテストデータでは，シーンID（IDというカラムのアンダーバーで分割した前半部分）に重複がないため，自身はシーンIDで分割を行っております．\n",
    "\n",
    "テーブルデータを使う場合だけであれば，ランダム分割でも問題ないような気もしておりますが，画像を使う場合は学習と評価に同じシーンIDがあると，過学習によりCVとLBの相関が取れなくなってくる可能性があるので，上記の分割がいいのではないかなと思っております．\n",
    "\n",
    "どこまで時間をかけることができるかわかりませんが，EDAを行い，特徴量の作成や画像データの活用などに着手していくことができたらと思っております．\n",
    "\n",
    "このnotebookが何かの役にたてば幸いです！"
   ]
  },
  {
   "cell_type": "code",
   "execution_count": 1,
   "id": "fd857d24",
   "metadata": {
    "execution": {
     "iopub.execute_input": "2024-11-15T20:37:47.306209Z",
     "iopub.status.busy": "2024-11-15T20:37:47.305659Z",
     "iopub.status.idle": "2024-11-15T20:37:54.015007Z",
     "shell.execute_reply": "2024-11-15T20:37:54.013938Z"
    },
    "papermill": {
     "duration": 6.719598,
     "end_time": "2024-11-15T20:37:54.017827",
     "exception": false,
     "start_time": "2024-11-15T20:37:47.298229",
     "status": "completed"
    },
    "tags": []
   },
   "outputs": [],
   "source": [
    "import sys\n",
    "\n",
    "# ====================================================\n",
    "# Library\n",
    "# ====================================================\n",
    "import os\n",
    "import gc\n",
    "import warnings\n",
    "\n",
    "warnings.filterwarnings(\"ignore\")\n",
    "import random\n",
    "import scipy as sp\n",
    "import numpy as np\n",
    "import pandas as pd\n",
    "from glob import glob\n",
    "from pathlib import Path\n",
    "import joblib\n",
    "import pickle\n",
    "import itertools\n",
    "from tqdm.auto import tqdm\n",
    "\n",
    "import torch\n",
    "from sklearn.model_selection import KFold, StratifiedKFold, train_test_split, GroupKFold\n",
    "from sklearn.metrics import mean_squared_error\n",
    "from sklearn.preprocessing import LabelEncoder\n",
    "import lightgbm as lgb\n",
    "import xgboost as xgb\n",
    "from catboost import Pool, CatBoostRegressor, CatBoostClassifier\n"
   ]
  },
  {
   "cell_type": "code",
   "execution_count": 2,
   "id": "7c7c2fad",
   "metadata": {
    "execution": {
     "iopub.execute_input": "2024-11-15T20:37:54.031396Z",
     "iopub.status.busy": "2024-11-15T20:37:54.030183Z",
     "iopub.status.idle": "2024-11-15T20:37:57.256691Z",
     "shell.execute_reply": "2024-11-15T20:37:57.254860Z"
    },
    "papermill": {
     "duration": 3.236308,
     "end_time": "2024-11-15T20:37:57.259744",
     "exception": false,
     "start_time": "2024-11-15T20:37:54.023436",
     "status": "completed"
    },
    "tags": []
   },
   "outputs": [],
   "source": [
    "!mkdir oof\n",
    "!mkdir models\n",
    "!mkdir submission\n"
   ]
  },
  {
   "cell_type": "code",
   "execution_count": 3,
   "id": "b965663c",
   "metadata": {
    "execution": {
     "iopub.execute_input": "2024-11-15T20:37:57.273117Z",
     "iopub.status.busy": "2024-11-15T20:37:57.272609Z",
     "iopub.status.idle": "2024-11-15T20:37:57.283559Z",
     "shell.execute_reply": "2024-11-15T20:37:57.282376Z"
    },
    "papermill": {
     "duration": 0.020746,
     "end_time": "2024-11-15T20:37:57.286003",
     "exception": false,
     "start_time": "2024-11-15T20:37:57.265257",
     "status": "completed"
    },
    "tags": []
   },
   "outputs": [],
   "source": [
    "# ====================================================\n",
    "# Configurations\n",
    "# ====================================================\n",
    "class CFG:\n",
    "    VER = 1\n",
    "    AUTHOR = \"takaito\"\n",
    "    COMPETITION = \"atmaCup18\"\n",
    "    DATA_PATH = Path(\"/kaggle/input/atmacup18-dataset/content/atmaCup18_dataset\")  # 適宜書き換える\n",
    "    OOF_DATA_PATH = Path(\"oof\")\n",
    "    MODEL_DATA_PATH = Path(\"models\")\n",
    "    SUB_DATA_PATH = Path(\"submission\")\n",
    "    METHOD_LIST = [\"lightgbm\", \"xgboost\", \"catboost\"]\n",
    "    SEED = 42\n",
    "    n_folds = 2\n",
    "    target_col_list = [\n",
    "        \"x_0\",\n",
    "        \"y_0\",\n",
    "        \"z_0\",\n",
    "        \"x_1\",\n",
    "        \"y_1\",\n",
    "        \"z_1\",\n",
    "        \"x_2\",\n",
    "        \"y_2\",\n",
    "        \"z_2\",\n",
    "        \"x_3\",\n",
    "        \"y_3\",\n",
    "        \"z_3\",\n",
    "        \"x_4\",\n",
    "        \"y_4\",\n",
    "        \"z_4\",\n",
    "        \"x_5\",\n",
    "        \"y_5\",\n",
    "        \"z_5\",\n",
    "    ]\n",
    "    group_col = \"cv_ID\"\n",
    "    metric = \"MAE\"\n",
    "    metric_maximize_flag = False\n",
    "    num_boost_round = 2000\n",
    "    early_stopping_round = 50\n",
    "    verbose = 250\n",
    "\n",
    "    regression_lgb_params = {\n",
    "        \"objective\": \"regression_l1\",\n",
    "        \"metric\": \"mae\",\n",
    "        \"learning_rate\": 0.1,\n",
    "        \"num_leaves\": 31,\n",
    "        \"seed\": SEED,\n",
    "    }\n",
    "    regression_xgb_params = {\n",
    "        \"objective\": \"reg:absoluteerror\",\n",
    "        \"eval_metric\": \"mae\",\n",
    "        \"learning_rate\": 0.1,\n",
    "        \"max_depth\": 6,\n",
    "        \"random_state\": SEED,\n",
    "    }\n",
    "\n",
    "    regression_cat_params = {\n",
    "        \"loss_function\": \"MAE\",\n",
    "        \"learning_rate\": 0.1,\n",
    "        \"iterations\": num_boost_round,\n",
    "        \"depth\": 7,  #\n",
    "        \"random_seed\": SEED,\n",
    "    }\n",
    "\n",
    "    model_weight_dict = {\"lightgbm\": 0.40, \"xgboost\": 0.30, \"catboost\": 0.30}\n"
   ]
  },
  {
   "cell_type": "code",
   "execution_count": 4,
   "id": "54b35318",
   "metadata": {
    "execution": {
     "iopub.execute_input": "2024-11-15T20:37:57.298632Z",
     "iopub.status.busy": "2024-11-15T20:37:57.298204Z",
     "iopub.status.idle": "2024-11-15T20:37:57.304508Z",
     "shell.execute_reply": "2024-11-15T20:37:57.303384Z"
    },
    "papermill": {
     "duration": 0.015218,
     "end_time": "2024-11-15T20:37:57.306770",
     "exception": false,
     "start_time": "2024-11-15T20:37:57.291552",
     "status": "completed"
    },
    "tags": []
   },
   "outputs": [],
   "source": [
    "# ====================================================\n",
    "# Seed everything\n",
    "# ====================================================\n",
    "def seed_everything(seed):\n",
    "    random.seed(seed)\n",
    "    np.random.seed(seed)\n",
    "    os.environ[\"PYTHONHASHSEED\"] = str(seed)\n",
    "\n",
    "\n",
    "seed_everything(CFG.SEED)\n"
   ]
  },
  {
   "cell_type": "code",
   "execution_count": null,
   "id": "7a24b40f",
   "metadata": {
    "papermill": {
     "duration": 0.005019,
     "end_time": "2024-11-15T20:37:57.317209",
     "exception": false,
     "start_time": "2024-11-15T20:37:57.312190",
     "status": "completed"
    },
    "tags": []
   },
   "outputs": [],
   "source": []
  },
  {
   "cell_type": "code",
   "execution_count": 5,
   "id": "123d6f65",
   "metadata": {
    "execution": {
     "iopub.execute_input": "2024-11-15T20:37:57.330605Z",
     "iopub.status.busy": "2024-11-15T20:37:57.330183Z",
     "iopub.status.idle": "2024-11-15T20:37:58.009732Z",
     "shell.execute_reply": "2024-11-15T20:37:58.008313Z"
    },
    "papermill": {
     "duration": 0.688938,
     "end_time": "2024-11-15T20:37:58.012534",
     "exception": false,
     "start_time": "2024-11-15T20:37:57.323596",
     "status": "completed"
    },
    "tags": []
   },
   "outputs": [],
   "source": [
    "train_df = pd.read_csv(CFG.DATA_PATH / \"train_features.csv\")\n",
    "test_df = pd.read_csv(CFG.DATA_PATH / \"test_features.csv\")\n",
    "submit_df = pd.DataFrame(test_df[\"ID\"])\n"
   ]
  },
  {
   "cell_type": "code",
   "execution_count": 6,
   "id": "541f854d",
   "metadata": {
    "execution": {
     "iopub.execute_input": "2024-11-15T20:37:58.025562Z",
     "iopub.status.busy": "2024-11-15T20:37:58.025095Z",
     "iopub.status.idle": "2024-11-15T20:37:58.036931Z",
     "shell.execute_reply": "2024-11-15T20:37:58.035716Z"
    },
    "papermill": {
     "duration": 0.021447,
     "end_time": "2024-11-15T20:37:58.039664",
     "exception": false,
     "start_time": "2024-11-15T20:37:58.018217",
     "status": "completed"
    },
    "tags": []
   },
   "outputs": [],
   "source": [
    "def category2id(input_df: pd.DataFrame()) -> pd.DataFrame():\n",
    "    output_df = input_df.copy()\n",
    "    gearShifter_dict = {\"drive\": 0, \"park\": 1, \"neutral\": 2, \"reverse\": 3}\n",
    "    output_df[\"gearShifter\"] = input_df[\"gearShifter\"].map(gearShifter_dict).astype(np.int8)\n",
    "    return output_df\n",
    "\n",
    "\n",
    "def make_features(input_df: pd.DataFrame()) -> pd.DataFrame():\n",
    "    output_df = input_df.copy()\n",
    "    output_df[[\"cv_ID\", \"Time\"]] = input_df[\"ID\"].str.split(\"_\", expand=True)\n",
    "    output_df = category2id(output_df)\n",
    "    return output_df\n",
    "\n",
    "\n",
    "def Preprocessing(input_df: pd.DataFrame()) -> pd.DataFrame():\n",
    "    # いろいろ特徴量作成や工夫を追加する\n",
    "    output_df = input_df.copy()\n",
    "    output_df = make_features(output_df)\n",
    "    return output_df\n"
   ]
  },
  {
   "cell_type": "code",
   "execution_count": 7,
   "id": "884ed337",
   "metadata": {
    "execution": {
     "iopub.execute_input": "2024-11-15T20:37:58.053207Z",
     "iopub.status.busy": "2024-11-15T20:37:58.052744Z",
     "iopub.status.idle": "2024-11-15T20:37:58.167172Z",
     "shell.execute_reply": "2024-11-15T20:37:58.165930Z"
    },
    "papermill": {
     "duration": 0.12452,
     "end_time": "2024-11-15T20:37:58.169896",
     "exception": false,
     "start_time": "2024-11-15T20:37:58.045376",
     "status": "completed"
    },
    "tags": []
   },
   "outputs": [],
   "source": [
    "train_df = Preprocessing(train_df)\n",
    "test_df = Preprocessing(test_df)\n"
   ]
  },
  {
   "cell_type": "code",
   "execution_count": 8,
   "id": "94a18de3",
   "metadata": {
    "execution": {
     "iopub.execute_input": "2024-11-15T20:37:58.182515Z",
     "iopub.status.busy": "2024-11-15T20:37:58.182062Z",
     "iopub.status.idle": "2024-11-15T20:37:58.216618Z",
     "shell.execute_reply": "2024-11-15T20:37:58.215375Z"
    },
    "papermill": {
     "duration": 0.044101,
     "end_time": "2024-11-15T20:37:58.219444",
     "exception": false,
     "start_time": "2024-11-15T20:37:58.175343",
     "status": "completed"
    },
    "tags": []
   },
   "outputs": [],
   "source": [
    "numerical_features = []\n",
    "categorical_features = []\n",
    "for col in test_df.columns:\n",
    "    if col in set([\"ID\", \"cv_ID\", \"Time\", \"cv_flag\"]):\n",
    "        continue\n",
    "    unique_count = train_df[col].nunique()\n",
    "    if unique_count == 1:\n",
    "        continue\n",
    "    if unique_count < 10:\n",
    "        train_df[col] = train_df[col].astype(\"category\")\n",
    "        test_df[col] = test_df[col].astype(\"category\")\n",
    "        categorical_features.append(col)\n",
    "    else:\n",
    "        numerical_features.append(col)\n",
    "features = numerical_features + categorical_features\n"
   ]
  },
  {
   "cell_type": "code",
   "execution_count": null,
   "id": "3f969567",
   "metadata": {
    "papermill": {
     "duration": 0.005065,
     "end_time": "2024-11-15T20:37:58.230016",
     "exception": false,
     "start_time": "2024-11-15T20:37:58.224951",
     "status": "completed"
    },
    "tags": []
   },
   "outputs": [],
   "source": []
  },
  {
   "cell_type": "code",
   "execution_count": 9,
   "id": "eea7a092",
   "metadata": {
    "execution": {
     "iopub.execute_input": "2024-11-15T20:37:58.243291Z",
     "iopub.status.busy": "2024-11-15T20:37:58.242080Z",
     "iopub.status.idle": "2024-11-15T20:37:58.314397Z",
     "shell.execute_reply": "2024-11-15T20:37:58.313165Z"
    },
    "papermill": {
     "duration": 0.081928,
     "end_time": "2024-11-15T20:37:58.317286",
     "exception": false,
     "start_time": "2024-11-15T20:37:58.235358",
     "status": "completed"
    },
    "tags": []
   },
   "outputs": [],
   "source": [
    "oof_fold = np.zeros(len(train_df))\n",
    "kfold = GroupKFold(n_splits=CFG.n_folds)\n",
    "for fold, (train_index, valid_index) in enumerate(\n",
    "    kfold.split(train_df, train_df[CFG.target_col_list[0]], train_df[CFG.group_col])\n",
    "):\n",
    "    oof_fold[valid_index] = fold + 1\n",
    "train_df[\"cv_flag\"] = oof_fold\n",
    "train_df[\"cv_flag\"] = train_df[\"cv_flag\"].astype(np.int8)\n"
   ]
  },
  {
   "cell_type": "code",
   "execution_count": null,
   "id": "17b5e0ee",
   "metadata": {
    "papermill": {
     "duration": 0.005003,
     "end_time": "2024-11-15T20:37:58.327646",
     "exception": false,
     "start_time": "2024-11-15T20:37:58.322643",
     "status": "completed"
    },
    "tags": []
   },
   "outputs": [],
   "source": []
  },
  {
   "cell_type": "code",
   "execution_count": 10,
   "id": "d161c633",
   "metadata": {
    "execution": {
     "iopub.execute_input": "2024-11-15T20:37:58.340792Z",
     "iopub.status.busy": "2024-11-15T20:37:58.339690Z",
     "iopub.status.idle": "2024-11-15T20:37:58.359654Z",
     "shell.execute_reply": "2024-11-15T20:37:58.358407Z"
    },
    "papermill": {
     "duration": 0.029218,
     "end_time": "2024-11-15T20:37:58.362235",
     "exception": false,
     "start_time": "2024-11-15T20:37:58.333017",
     "status": "completed"
    },
    "tags": []
   },
   "outputs": [],
   "source": [
    "def lightgbm_training(\n",
    "    x_train: pd.DataFrame,\n",
    "    y_train: pd.DataFrame,\n",
    "    x_valid: pd.DataFrame,\n",
    "    y_valid: pd.DataFrame,\n",
    "    features: list,\n",
    "    categorical_features: list,\n",
    "):\n",
    "    lgb_train = lgb.Dataset(x_train, y_train, categorical_feature=categorical_features)\n",
    "    lgb_valid = lgb.Dataset(x_valid, y_valid, categorical_feature=categorical_features)\n",
    "    model = lgb.train(\n",
    "        params=CFG.regression_lgb_params,\n",
    "        train_set=lgb_train,\n",
    "        num_boost_round=CFG.num_boost_round,\n",
    "        valid_sets=[lgb_train, lgb_valid],\n",
    "        callbacks=[\n",
    "            lgb.early_stopping(stopping_rounds=CFG.early_stopping_round, verbose=CFG.verbose),\n",
    "            lgb.log_evaluation(CFG.verbose),\n",
    "        ],\n",
    "    )\n",
    "    # Predict validation\n",
    "    valid_pred = model.predict(x_valid)\n",
    "    return model, valid_pred\n",
    "\n",
    "\n",
    "def xgboost_training(\n",
    "    x_train: pd.DataFrame,\n",
    "    y_train: pd.DataFrame,\n",
    "    x_valid: pd.DataFrame,\n",
    "    y_valid: pd.DataFrame,\n",
    "    features: list,\n",
    "    categorical_features: list,\n",
    "):\n",
    "    xgb_train = xgb.DMatrix(data=x_train, label=y_train, enable_categorical=True)\n",
    "    xgb_valid = xgb.DMatrix(data=x_valid, label=y_valid, enable_categorical=True)\n",
    "    model = xgb.train(\n",
    "        CFG.regression_xgb_params,\n",
    "        dtrain=xgb_train,\n",
    "        num_boost_round=CFG.num_boost_round,\n",
    "        evals=[(xgb_train, \"train\"), (xgb_valid, \"eval\")],\n",
    "        early_stopping_rounds=CFG.early_stopping_round,\n",
    "        verbose_eval=CFG.verbose,\n",
    "    )\n",
    "    # Predict validation\n",
    "    valid_pred = model.predict(xgb.DMatrix(x_valid, enable_categorical=True))\n",
    "    return model, valid_pred\n",
    "\n",
    "\n",
    "def catboost_training(\n",
    "    x_train: pd.DataFrame,\n",
    "    y_train: pd.DataFrame,\n",
    "    x_valid: pd.DataFrame,\n",
    "    y_valid: pd.DataFrame,\n",
    "    features: list,\n",
    "    categorical_features: list,\n",
    "):\n",
    "    cat_train = Pool(data=x_train, label=y_train, cat_features=categorical_features)\n",
    "    cat_valid = Pool(data=x_valid, label=y_valid, cat_features=categorical_features)\n",
    "    model = CatBoostRegressor(**CFG.regression_cat_params)\n",
    "    model.fit(\n",
    "        cat_train,\n",
    "        eval_set=[cat_valid],\n",
    "        early_stopping_rounds=CFG.early_stopping_round,\n",
    "        verbose=CFG.verbose,\n",
    "        use_best_model=True,\n",
    "    )\n",
    "    # Predict validation\n",
    "    valid_pred = model.predict(x_valid)\n",
    "    return model, valid_pred\n",
    "\n",
    "\n",
    "def gradient_boosting_model_cv_training(\n",
    "    method: str, train_df: pd.DataFrame, features: list, categorical_features: list\n",
    "):\n",
    "    # Create a numpy array to store out of folds predictions\n",
    "    oof_predictions_df = pd.DataFrame(np.zeros((len(train_df), len(CFG.target_col_list))), columns=CFG.target_col_list)\n",
    "    for target_col in CFG.target_col_list:\n",
    "        oof_predictions = np.zeros(len(train_df))\n",
    "        for fold in range(CFG.n_folds):\n",
    "            print(\"-\" * 50)\n",
    "            print(f\"{method} training fold {fold+1} {target_col}\")\n",
    "            x_train = train_df[train_df[\"cv_flag\"] != fold + 1][features]\n",
    "            y_train = train_df[train_df[\"cv_flag\"] != fold + 1][target_col]\n",
    "            x_valid = train_df[train_df[\"cv_flag\"] == fold + 1][features]\n",
    "            y_valid = train_df[train_df[\"cv_flag\"] == fold + 1][target_col]\n",
    "            if method == \"lightgbm\":\n",
    "                model, valid_pred = lightgbm_training(\n",
    "                    x_train, y_train, x_valid, y_valid, features, categorical_features\n",
    "                )\n",
    "            if method == \"xgboost\":\n",
    "                model, valid_pred = xgboost_training(x_train, y_train, x_valid, y_valid, features, categorical_features)\n",
    "            if method == \"catboost\":\n",
    "                model, valid_pred = catboost_training(\n",
    "                    x_train, y_train, x_valid, y_valid, features, categorical_features\n",
    "                )\n",
    "\n",
    "            # Save best model\n",
    "            pickle.dump(\n",
    "                model,\n",
    "                open(\n",
    "                    CFG.MODEL_DATA_PATH\n",
    "                    / f\"{CFG.AUTHOR}_{method}_{target_col}_fold{fold + 1}_seed{CFG.SEED}_ver{CFG.VER}.pkl\",\n",
    "                    \"wb\",\n",
    "                ),\n",
    "            )\n",
    "            # Add to out of folds array\n",
    "            oof_predictions[train_df[\"cv_flag\"] == fold + 1] = valid_pred\n",
    "            del x_train, x_valid, y_train, y_valid, model, valid_pred\n",
    "            gc.collect()\n",
    "        oof_predictions_df[target_col] = oof_predictions\n",
    "\n",
    "    # Compute out of folds metric\n",
    "    abs_diff = np.abs(\n",
    "        train_df[CFG.target_col_list].values - oof_predictions_df[CFG.target_col_list].values\n",
    "    )  # 各予測の差分の絶対値を計算して\n",
    "    score = np.mean(\n",
    "        abs_diff.reshape(\n",
    "            -1,\n",
    "        )\n",
    "    )\n",
    "    print(f\"{method} our out of folds CV MAE is {score}\")\n",
    "    # Create a dataframe to store out of folds predictions\n",
    "    oof_predictions_df[\"ID\"] = train_df[\"ID\"].values\n",
    "    oof_predictions_df.to_csv(\n",
    "        CFG.OOF_DATA_PATH / f\"{CFG.AUTHOR}_oof_{method}_seed{CFG.SEED}_ver{CFG.VER}.csv\", index=False\n",
    "    )\n"
   ]
  },
  {
   "cell_type": "code",
   "execution_count": null,
   "id": "5773e31b",
   "metadata": {
    "execution": {
     "iopub.execute_input": "2024-11-15T20:37:58.374823Z",
     "iopub.status.busy": "2024-11-15T20:37:58.374381Z",
     "iopub.status.idle": "2024-11-15T20:47:52.950782Z",
     "shell.execute_reply": "2024-11-15T20:47:52.949559Z"
    },
    "papermill": {
     "duration": 594.585877,
     "end_time": "2024-11-15T20:47:52.953480",
     "exception": false,
     "start_time": "2024-11-15T20:37:58.367603",
     "status": "completed"
    },
    "tags": []
   },
   "outputs": [],
   "source": [
    "for method in CFG.METHOD_LIST:\n",
    "    gradient_boosting_model_cv_training(method, train_df, features, categorical_features)\n"
   ]
  },
  {
   "cell_type": "code",
   "execution_count": 12,
   "id": "5cea77fb",
   "metadata": {
    "execution": {
     "iopub.execute_input": "2024-11-15T20:47:53.013228Z",
     "iopub.status.busy": "2024-11-15T20:47:53.012790Z",
     "iopub.status.idle": "2024-11-15T20:47:53.898377Z",
     "shell.execute_reply": "2024-11-15T20:47:53.897015Z"
    },
    "papermill": {
     "duration": 0.918207,
     "end_time": "2024-11-15T20:47:53.900882",
     "exception": false,
     "start_time": "2024-11-15T20:47:52.982675",
     "status": "completed"
    },
    "tags": []
   },
   "outputs": [
    {
     "name": "stdout",
     "output_type": "stream",
     "text": [
      "catboost our out of folds CV MAE is 0.23380061044861875\n"
     ]
    }
   ],
   "source": [
    "oof_predictions_df = pd.DataFrame(train_df[\"ID\"])\n",
    "oof_predictions_df[CFG.target_col_list] = 0\n",
    "for method in CFG.METHOD_LIST:\n",
    "    oof_predictions_df[CFG.target_col_list] += (\n",
    "        CFG.model_weight_dict[method]\n",
    "        * pd.read_csv(CFG.OOF_DATA_PATH / f\"{CFG.AUTHOR}_oof_{method}_seed{CFG.SEED}_ver{CFG.VER}.csv\")[\n",
    "            CFG.target_col_list\n",
    "        ].values\n",
    "    )\n",
    "abs_diff = np.abs(\n",
    "    train_df[CFG.target_col_list].values - oof_predictions_df[CFG.target_col_list].values\n",
    ")  # 各予測の差分の絶対値を計算して\n",
    "score = np.mean(\n",
    "    abs_diff.reshape(\n",
    "        -1,\n",
    "    )\n",
    ")\n",
    "print(f\"{method} our out of folds CV MAE is {score}\")\n"
   ]
  },
  {
   "cell_type": "code",
   "execution_count": 13,
   "id": "507735c4",
   "metadata": {
    "execution": {
     "iopub.execute_input": "2024-11-15T20:47:53.961711Z",
     "iopub.status.busy": "2024-11-15T20:47:53.960886Z",
     "iopub.status.idle": "2024-11-15T20:47:53.973997Z",
     "shell.execute_reply": "2024-11-15T20:47:53.972864Z"
    },
    "papermill": {
     "duration": 0.045668,
     "end_time": "2024-11-15T20:47:53.976247",
     "exception": false,
     "start_time": "2024-11-15T20:47:53.930579",
     "status": "completed"
    },
    "tags": []
   },
   "outputs": [],
   "source": [
    "def lightgbm_inference(x_test: pd.DataFrame, target_col: str):\n",
    "    test_pred = np.zeros(len(x_test))\n",
    "    for fold in range(CFG.n_folds):\n",
    "        model = pickle.load(\n",
    "            open(\n",
    "                CFG.MODEL_DATA_PATH\n",
    "                / f\"{CFG.AUTHOR}_lightgbm_{target_col}_fold{fold + 1}_seed{CFG.SEED}_ver{CFG.VER}.pkl\",\n",
    "                \"rb\",\n",
    "            )\n",
    "        )\n",
    "        # Predict\n",
    "        pred = model.predict(x_test)\n",
    "        test_pred += pred\n",
    "    return test_pred / CFG.n_folds\n",
    "\n",
    "\n",
    "def xgboost_inference(x_test: pd.DataFrame, target_col: str):\n",
    "    test_pred = np.zeros(len(x_test))\n",
    "    for fold in range(CFG.n_folds):\n",
    "        model = pickle.load(\n",
    "            open(\n",
    "                CFG.MODEL_DATA_PATH\n",
    "                / f\"{CFG.AUTHOR}_xgboost_{target_col}_fold{fold + 1}_seed{CFG.SEED}_ver{CFG.VER}.pkl\",\n",
    "                \"rb\",\n",
    "            )\n",
    "        )\n",
    "        # Predict\n",
    "        pred = model.predict(xgb.DMatrix(x_test, enable_categorical=True))\n",
    "        test_pred += pred\n",
    "    return test_pred / CFG.n_folds\n",
    "\n",
    "\n",
    "def catboost_inference(x_test: pd.DataFrame, target_col: str):\n",
    "    test_pred = np.zeros(len(x_test))\n",
    "    for fold in range(CFG.n_folds):\n",
    "        model = pickle.load(\n",
    "            open(\n",
    "                CFG.MODEL_DATA_PATH\n",
    "                / f\"{CFG.AUTHOR}_catboost_{target_col}_fold{fold + 1}_seed{CFG.SEED}_ver{CFG.VER}.pkl\",\n",
    "                \"rb\",\n",
    "            )\n",
    "        )\n",
    "        # Predict\n",
    "        pred = model.predict(x_test)\n",
    "        test_pred += pred\n",
    "    return test_pred / CFG.n_folds\n",
    "\n",
    "\n",
    "def gradient_boosting_model_inference(method: str, test_df: pd.DataFrame, features: list, target_col: str):\n",
    "    x_test = test_df[features]\n",
    "    if method == \"lightgbm\":\n",
    "        test_pred = lightgbm_inference(x_test, target_col)\n",
    "    if method == \"xgboost\":\n",
    "        test_pred = xgboost_inference(x_test, target_col)\n",
    "    if method == \"catboost\":\n",
    "        test_pred = catboost_inference(x_test, target_col)\n",
    "    return test_pred\n",
    "\n",
    "\n",
    "def Predicting(input_df: pd.DataFrame, features: list):\n",
    "    output_df = input_df.copy()\n",
    "    for target_col in CFG.target_col_list:\n",
    "        output_df[target_col] = 0\n",
    "        for method in CFG.METHOD_LIST:\n",
    "            output_df[f\"{method}_pred_{target_col}\"] = gradient_boosting_model_inference(\n",
    "                method, input_df, features, target_col\n",
    "            )\n",
    "            output_df[target_col] += CFG.model_weight_dict[method] * output_df[f\"{method}_pred_{target_col}\"]\n",
    "    return output_df\n"
   ]
  },
  {
   "cell_type": "code",
   "execution_count": 14,
   "id": "51faafef",
   "metadata": {
    "execution": {
     "iopub.execute_input": "2024-11-15T20:47:54.035134Z",
     "iopub.status.busy": "2024-11-15T20:47:54.034636Z",
     "iopub.status.idle": "2024-11-15T20:47:56.278459Z",
     "shell.execute_reply": "2024-11-15T20:47:56.277253Z"
    },
    "papermill": {
     "duration": 2.276091,
     "end_time": "2024-11-15T20:47:56.281208",
     "exception": false,
     "start_time": "2024-11-15T20:47:54.005117",
     "status": "completed"
    },
    "tags": []
   },
   "outputs": [],
   "source": [
    "test_df = Predicting(test_df, features)\n"
   ]
  },
  {
   "cell_type": "code",
   "execution_count": 15,
   "id": "d935beae",
   "metadata": {
    "execution": {
     "iopub.execute_input": "2024-11-15T20:47:56.343730Z",
     "iopub.status.busy": "2024-11-15T20:47:56.342941Z",
     "iopub.status.idle": "2024-11-15T20:47:56.414225Z",
     "shell.execute_reply": "2024-11-15T20:47:56.413114Z"
    },
    "papermill": {
     "duration": 0.104976,
     "end_time": "2024-11-15T20:47:56.416947",
     "exception": false,
     "start_time": "2024-11-15T20:47:56.311971",
     "status": "completed"
    },
    "tags": []
   },
   "outputs": [],
   "source": [
    "submit_df = submit_df.merge(test_df[[\"ID\"] + CFG.target_col_list], on=\"ID\", how=\"left\")\n",
    "submit_df[CFG.target_col_list].to_csv(CFG.SUB_DATA_PATH / \"submit.csv\", index=False)\n"
   ]
  },
  {
   "cell_type": "code",
   "execution_count": null,
   "id": "a014046b",
   "metadata": {
    "papermill": {
     "duration": 0.028129,
     "end_time": "2024-11-15T20:47:56.474059",
     "exception": false,
     "start_time": "2024-11-15T20:47:56.445930",
     "status": "completed"
    },
    "tags": []
   },
   "outputs": [],
   "source": []
  }
 ],
 "metadata": {
  "kaggle": {
   "accelerator": "none",
   "dataSources": [
    {
     "datasetId": 6092639,
     "sourceId": 9914820,
     "sourceType": "datasetVersion"
    }
   ],
   "dockerImageVersionId": 30786,
   "isGpuEnabled": false,
   "isInternetEnabled": true,
   "language": "python",
   "sourceType": "notebook"
  },
  "kernelspec": {
   "display_name": "Python 3",
   "language": "python",
   "name": "python3"
  },
  "language_info": {
   "codemirror_mode": {
    "name": "ipython",
    "version": 3
   },
   "file_extension": ".py",
   "mimetype": "text/x-python",
   "name": "python",
   "nbconvert_exporter": "python",
   "pygments_lexer": "ipython3",
   "version": "3.10.14"
  },
  "papermill": {
   "default_parameters": {},
   "duration": 613.352951,
   "end_time": "2024-11-15T20:47:57.827593",
   "environment_variables": {},
   "exception": null,
   "input_path": "__notebook__.ipynb",
   "output_path": "__notebook__.ipynb",
   "parameters": {},
   "start_time": "2024-11-15T20:37:44.474642",
   "version": "2.6.0"
  }
 },
 "nbformat": 4,
 "nbformat_minor": 5
}

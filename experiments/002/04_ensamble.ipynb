{
 "cells": [
  {
   "cell_type": "code",
   "execution_count": 1,
   "metadata": {},
   "outputs": [],
   "source": [
    "import warnings\n",
    "\n",
    "import config  # edit config.py as needed\n",
    "import numpy as np\n",
    "import pandas as pd\n",
    "import polars as pl\n",
    "from metric import score  # edit metric.py as needed\n",
    "from scipy.optimize import minimize\n",
    "from scipy.stats import rankdata\n",
    "from seed import seed_everything  # edit seed.py as needed\n",
    "from tqdm.notebook import tqdm\n",
    "\n",
    "warnings.filterwarnings(\"ignore\")\n"
   ]
  },
  {
   "cell_type": "code",
   "execution_count": 2,
   "metadata": {},
   "outputs": [],
   "source": [
    "# ====================================================\n",
    "# Configurations\n",
    "# ====================================================\n",
    "class CFG:\n",
    "    DRY_RUN = False\n",
    "    EXP_NAME = config.EXP_NAME\n",
    "    AUTHOR = \"marumarukun\"\n",
    "    COMPETITION = config.KAGGLE_COMPETITION_NAME\n",
    "    DATA_PATH = config.COMP_DATASET_DIR\n",
    "    OUTPUT_DIR = config.OUTPUT_DIR\n",
    "    SEED = 42\n"
   ]
  },
  {
   "cell_type": "code",
   "execution_count": 3,
   "metadata": {},
   "outputs": [],
   "source": [
    "# ====================================================\n",
    "# Seed everything\n",
    "# ====================================================\n",
    "seed_everything(CFG.SEED)\n"
   ]
  },
  {
   "cell_type": "code",
   "execution_count": 4,
   "metadata": {},
   "outputs": [],
   "source": [
    "# ====================================================\n",
    "# Read data\n",
    "# ====================================================\n",
    "train = pl.read_csv(CFG.DATA_PATH / \"train.csv\", try_parse_dates=True).to_pandas()\n",
    "test = pl.read_csv(CFG.DATA_PATH / \"test.csv\", try_parse_dates=True).to_pandas()\n"
   ]
  },
  {
   "cell_type": "code",
   "execution_count": 5,
   "metadata": {},
   "outputs": [
    {
     "name": "stdout",
     "output_type": "stream",
     "text": [
      "\n",
      "Overall CV for Ensemble = 0.6822494374076322\n"
     ]
    }
   ],
   "source": [
    "# ====================================================\n",
    "# Overall CV\n",
    "# ====================================================\n",
    "# target kaplan\n",
    "oof_kaplan_lgb = (\n",
    "    pl.read_csv(CFG.OUTPUT_DIR / f\"oof_lightgbm_seed{CFG.SEED}_ver{CFG.EXP_NAME}.csv\")\n",
    "    .get_column(\"prediction\")\n",
    "    .to_numpy()\n",
    ")\n",
    "oof_kaplan_xgb = (\n",
    "    pl.read_csv(CFG.OUTPUT_DIR / f\"oof_xgboost_seed{CFG.SEED}_ver{CFG.EXP_NAME}.csv\")\n",
    "    .get_column(\"prediction\")\n",
    "    .to_numpy()\n",
    ")\n",
    "oof_kaplan_cat = (\n",
    "    pl.read_csv(CFG.OUTPUT_DIR / f\"oof_catboost_seed{CFG.SEED}_ver{CFG.EXP_NAME}.csv\")\n",
    "    .get_column(\"prediction\")\n",
    "    .to_numpy()\n",
    ")\n",
    "# Cox models\n",
    "oof_cox_xgb = (\n",
    "    pl.read_csv(CFG.OUTPUT_DIR / f\"oof_xgboost_cox_seed{CFG.SEED}_ver{CFG.EXP_NAME}.csv\")\n",
    "    .get_column(\"prediction\")\n",
    "    .to_numpy()\n",
    ")\n",
    "oof_cox_cat = (\n",
    "    pl.read_csv(CFG.OUTPUT_DIR / f\"oof_catboost_cox_seed{CFG.SEED}_ver{CFG.EXP_NAME}.csv\")\n",
    "    .get_column(\"prediction\")\n",
    "    .to_numpy()\n",
    ")\n",
    "# target nelson\n",
    "oof_nelson_lgb = (\n",
    "    pl.read_csv(CFG.OUTPUT_DIR / f\"oof_lightgbm_y_nelson_seed{CFG.SEED}_ver{CFG.EXP_NAME}.csv\")\n",
    "    .get_column(\"prediction\")\n",
    "    .to_numpy()\n",
    ")\n",
    "oof_nelson_xgb = (\n",
    "    pl.read_csv(CFG.OUTPUT_DIR / f\"oof_xgboost_y_nelson_seed{CFG.SEED}_ver{CFG.EXP_NAME}.csv\")\n",
    "    .get_column(\"prediction\")\n",
    "    .to_numpy()\n",
    ")\n",
    "oof_nelson_cat = (\n",
    "    pl.read_csv(CFG.OUTPUT_DIR / f\"oof_catboost_y_nelson_seed{CFG.SEED}_ver{CFG.EXP_NAME}.csv\")\n",
    "    .get_column(\"prediction\")\n",
    "    .to_numpy()\n",
    ")\n",
    "# nn\n",
    "oof_nn = (\n",
    "    pl.read_csv(CFG.OUTPUT_DIR / f\"oof_nn_y_seed{CFG.SEED}_ver{CFG.EXP_NAME}.csv\").get_column(\"prediction\").to_numpy()\n",
    ")\n",
    "\n",
    "y_true = train[[\"ID\", \"efs\", \"efs_time\", \"race_group\"]].copy()\n",
    "y_pred = train[[\"ID\"]].copy()\n",
    "y_pred[\"prediction\"] = (\n",
    "    rankdata(oof_kaplan_xgb)\n",
    "    + rankdata(oof_kaplan_cat)\n",
    "    + rankdata(oof_kaplan_lgb)\n",
    "    + rankdata(oof_cox_xgb)\n",
    "    + rankdata(oof_cox_cat)\n",
    "    + rankdata(oof_nelson_lgb)\n",
    "    + rankdata(oof_nelson_xgb)\n",
    "    + rankdata(oof_nelson_cat)\n",
    "    + rankdata(oof_nn)\n",
    ")\n",
    "m = score(y_true.copy(), y_pred.copy(), \"ID\")\n",
    "print(\"\\nOverall CV for Ensemble =\", m)\n"
   ]
  },
  {
   "cell_type": "code",
   "execution_count": 7,
   "metadata": {},
   "outputs": [
    {
     "data": {
      "application/vnd.jupyter.widget-view+json": {
       "model_id": "9a2b61eb116b4c98a4619d76ed114364",
       "version_major": 2,
       "version_minor": 0
      },
      "text/plain": [
       "  0%|          | 0/5 [00:00<?, ?it/s]"
      ]
     },
     "metadata": {},
     "output_type": "display_data"
    },
    {
     "name": "stdout",
     "output_type": "stream",
     "text": [
      "試行 1:\n",
      "スコア: 0.682881\n",
      "重み: [ 0.08553245 -0.00577941  0.05567771  0.17345794  0.05165869  0.05671022\n",
      "  0.02171692  0.19129843  0.08987593]\n",
      "--------------------------------------------------\n",
      "試行 2:\n",
      "スコア: 0.682529\n",
      "重み: [0.03195483 0.02591072 0.04206069 0.12226512 0.15745873 0.05358597\n",
      " 0.09336777 0.11453003 0.01149189]\n",
      "--------------------------------------------------\n",
      "試行 3:\n",
      "スコア: 0.682754\n",
      "重み: [0.00477925 0.01793846 0.07551991 0.14159597 0.13472972 0.11716305\n",
      " 0.09939699 0.14115596 0.10058944]\n",
      "--------------------------------------------------\n",
      "試行 4:\n",
      "スコア: 0.682450\n",
      "重み: [0.04961802 0.08850728 0.12239793 0.0366907  0.24066119 0.08504804\n",
      " 0.01668789 0.03159949 0.05258479]\n",
      "--------------------------------------------------\n",
      "試行 5:\n",
      "スコア: 0.682836\n",
      "重み: [0.08912316 0.11289416 0.03056608 0.26624721 0.0888246  0.12040795\n",
      " 0.00909633 0.13042839 0.12253709]\n",
      "--------------------------------------------------\n",
      "\n",
      "最終結果:\n",
      "最良スコア: 0.682881\n",
      "最適な重み: [ 0.08553245 -0.00577941  0.05567771  0.17345794  0.05165869  0.05671022\n",
      "  0.02171692  0.19129843  0.08987593]\n"
     ]
    }
   ],
   "source": [
    "def ensemble_score(weights):\n",
    "    # 重み付けした予測値を計算\n",
    "    weighted_pred = (\n",
    "        weights[0] * rankdata(oof_kaplan_xgb)\n",
    "        + weights[1] * rankdata(oof_kaplan_cat)\n",
    "        + weights[2] * rankdata(oof_kaplan_lgb)\n",
    "        + weights[3] * rankdata(oof_cox_xgb)\n",
    "        + weights[4] * rankdata(oof_cox_cat)\n",
    "        + weights[5] * rankdata(oof_nelson_lgb)\n",
    "        + weights[6] * rankdata(oof_nelson_xgb)\n",
    "        + weights[7] * rankdata(oof_nelson_cat)\n",
    "        + weights[8] * rankdata(oof_nn)\n",
    "    )\n",
    "\n",
    "    y_pred = pd.DataFrame({\"ID\": train[\"ID\"], \"prediction\": weighted_pred})\n",
    "    y_true = train[[\"ID\", \"efs\", \"efs_time\", \"race_group\"]].copy()\n",
    "\n",
    "    return -score(y_true.copy(), y_pred.copy(), \"ID\")\n",
    "\n",
    "\n",
    "# 5回試行して最良の結果を保存\n",
    "best_score = 0.0\n",
    "best_weights = None\n",
    "\n",
    "for i in tqdm(range(5)):\n",
    "    # 異なるシード値を設定\n",
    "    seed_everything(CFG.SEED + i)\n",
    "\n",
    "    # 初期重みをランダムに生成\n",
    "    random_weights = np.random.random(9)\n",
    "    initial_weights = random_weights / random_weights.sum()\n",
    "\n",
    "    # 最適化実行\n",
    "    result = minimize(ensemble_score, initial_weights, method=\"Nelder-Mead\")\n",
    "\n",
    "    if -result.fun > best_score:\n",
    "        best_score = -result.fun\n",
    "        best_weights = result.x\n",
    "\n",
    "    print(f\"試行 {i+1}:\")\n",
    "    print(f\"スコア: {-result.fun:.6f}\")\n",
    "    print(\"重み:\", result.x)\n",
    "    print(\"-\" * 50)\n",
    "\n",
    "print(\"\\n最終結果:\")\n",
    "print(f\"最良スコア: {best_score:.6f}\")\n",
    "print(\"最適な重み:\", best_weights)\n"
   ]
  }
 ],
 "metadata": {
  "kernelspec": {
   "display_name": "Python 3",
   "language": "python",
   "name": "python3"
  },
  "language_info": {
   "codemirror_mode": {
    "name": "ipython",
    "version": 3
   },
   "file_extension": ".py",
   "mimetype": "text/x-python",
   "name": "python",
   "nbconvert_exporter": "python",
   "pygments_lexer": "ipython3",
   "version": "3.10.12"
  }
 },
 "nbformat": 4,
 "nbformat_minor": 2
}
